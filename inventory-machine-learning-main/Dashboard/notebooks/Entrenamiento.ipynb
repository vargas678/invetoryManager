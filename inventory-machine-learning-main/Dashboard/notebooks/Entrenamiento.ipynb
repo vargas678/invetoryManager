{
 "cells": [
  {
   "cell_type": "markdown",
   "id": "7c494612",
   "metadata": {},
   "source": [
    "<div align=\"center\" style=\"border: 2px solid #E57373; border-radius: 10px; padding: 20px; background-color: #FFCDD2;\">\n",
    "    <h1 style=\"font-size: 28px; color: #D32F2F;\">Predicción Inteligente de Inventarios y Ventas con Aprendizaje Automático</h1>\n",
    "    <p style=\"font-size: 18px; color: #EF6C00;\">\"Aprovechando el Poder del Aprendizaje Automático para Optimizar Inventarios y Potenciar la Rentabilidad Empresarial\"</p>\n",
    "    <img src=\"./images/logo.jpg\" alt=\"Imagen de ejemplo\" style=\"border-radius: 5px; box-shadow: 5px 5px 10px rgba(0, 0, 0, 0.2); max-width: 80%; margin-top: 20px;\">\n",
    "</div>\n"
   ]
  },
  {
   "cell_type": "markdown",
   "id": "488bf973",
   "metadata": {},
   "source": [
    "# <a id=\"1\"><font size=\"6\"><div style=\"border-radius:5px;color:white;background-color:#FA8072;\">  1. Introducción 🚀</div> </font></a>\n"
   ]
  },
  {
   "cell_type": "markdown",
   "id": "252b9887",
   "metadata": {},
   "source": [
    "<div class=\"explain-box\">\n",
    "    Las <b>empresas</b> necesitan comprender los <b>datos de ventas</b>. Nos adentraremos profundamente en estos datos para descubrir <b>conocimientos cruciales</b> con la ayuda del <u>análisis exploratorio de datos (AED)</u>. En este estudio, vamos a examinar estos <b>datos de ventas simples</b>. Nuestra misión es descubrir <b>conocimientos no revelados</b> que puedan <b>aumentar las ganancias</b> y <b>mejorar la toma de decisiones</b> para las empresas. Analizaremos los datos utilizando <b>técnicas de AED</b> para encontrar <b>información importante</b> que pueda ayudar a las empresas a tener éxito. Aquí utilizaremos <u>Pandas</u> para el <b>preprocesamiento y la limpieza de datos</b>, y también utilizaremos <u>Matplotlib, Plotly y seaborn</u> para las <b>visualizaciones</b>.\n",
    "</div>\n"
   ]
  },
  {
   "cell_type": "markdown",
   "id": "591939fe",
   "metadata": {},
   "source": [
    "La eficiente **gestión del inventario** es un componente crucial para el éxito de cualquier empresa. No solo garantiza la **disponibilidad adecuada de productos** para satisfacer la demanda del cliente, sino que también **optimiza los costos** y facilita la **toma de decisiones estratégicas basadas en datos**.\n",
    "\n",
    "Los **modelos de IA** desempeña un papel fundamental en este proceso, al facilitar el **seguimiento y control de los productos en stock**, las ventas, los pedidos y las entregas. Más que una simple herramienta, una **base de datos bien diseñada** se convierte en la columna vertebral de las operaciones comerciales, influyendo en la eficiencia, la rentabilidad y la capacidad de respuesta ante las demandas del mercado.\n",
    "\n",
    "En el mundo empresarial actual, donde la competencia es feroz y las demandas del cliente son cada vez más sofisticadas, la **gestión tradicional del inventario** ya no es suficiente. Es aquí donde entra en juego el **análisis impulsado por inteligencia artificial (IA)**. Al aprovechar las **técnicas de aprendizaje automático**, las empresas pueden analizar grandes volúmenes de datos de manera más rápida y precisa de lo que sería posible con métodos convencionales.\n",
    "\n",
    "La gestión de inventario presenta varios desafíos que las empresas deben abordar de manera efectiva, desde la **predicción de la demanda** hasta la **coordinación de la cadena de suministro** y la **gestión de productos perecederos**. Estos desafíos pueden ser abordados de manera más eficiente con el uso de herramientas de IA que permiten el **análisis de datos a gran escala** y la generación de **insights valiosos**.\n",
    "\n",
    "La implementación de soluciones de IA puede proporcionar una **ventaja competitiva significativa** al predecir la demanda de los productos, optimizar los niveles de inventario y mejorar la eficiencia operativa en general. Al combinar **datos históricos** con **algoritmos avanzados de aprendizaje automático**, las empresas pueden tomar **decisiones más informadas y proactivas**, reduciendo los costos y maximizando los beneficios.\n",
    "\n",
    "Para implementar una gestión eficaz del inventario, es crucial contar con una **base de datos del sistema de gestión de inventario robusta y bien diseñada**. Esta herramienta no solo permite el seguimiento de los niveles de existencias, logística y las transacciones, sino que también proporciona información valiosa para la toma de decisiones estratégicas. Al analizar datos en tiempo real, las empresas pueden identificar tendencias, anticipar cambios en la demanda y ajustar su inventario de manera proactiva, optimizando sus procesos operativos y mejorando su rentabilidad y competitividad en el mercado.\n",
    "\n",
    "Este proyecto busca diseñar una **algoritmo de Machine Learning robusta y escalable** que sirva  para una **aplicación de gestión de inventario y análisis predictivo de ventas**. Al integrar capacidades de IA en el proceso de gestión de inventario, las empresas pueden posicionarse mejor para enfrentar los desafíos del mercado actual y aprovechar nuevas oportunidades de crecimiento y expansión.\n",
    "\n",
    "## Descripción de las Columnas del DataFrame `df_inventory`\n",
    "\n",
    "<style>\n",
    "    table {\n",
    "        border-collapse: collapse;\n",
    "        width: 100%;\n",
    "        border: 2px solid #008CBA;\n",
    "        margin-bottom: 20px;\n",
    "    }\n",
    "\n",
    "    th, td {\n",
    "        border: 1px solid #008CBA;\n",
    "        padding: 10px;\n",
    "        text-align: left;\n",
    "    }\n",
    "\n",
    "    th {\n",
    "        background-color: #008CBA;\n",
    "        color: white;\n",
    "    }\n",
    "\n",
    "    h2 {\n",
    "        color: #008CBA;\n",
    "    }\n",
    "</style>\n",
    "\n",
    "<table>\n",
    "    <tr>\n",
    "        <th>Variable</th>\n",
    "        <th>Descripción</th>\n",
    "    </tr>\n",
    "    <tr>\n",
    "        <td>MES</td>\n",
    "        <td>Número del mes correspondiente al registro (1 a 12).</td>\n",
    "    </tr>\n",
    "    <tr>\n",
    "        <td>PRODUCTOS_ALMACENADOS</td>\n",
    "        <td>Cantidad de productos almacenados en el inventario durante el mes.</td>\n",
    "    </tr>\n",
    "    <tr>\n",
    "        <td>GASTO_DE_MARKETING</td>\n",
    "        <td>Monto de dinero gastado en marketing durante el mes.</td>\n",
    "    </tr>\n",
    "    <tr>\n",
    "        <td>GASTO_DE_ALMACENAMIENTO</td>\n",
    "        <td>Monto de dinero gastado en almacenamiento de productos durante el mes.</td>\n",
    "    </tr>\n",
    "    <tr>\n",
    "        <td>DEMANDA_DEL_PRODUCTO</td>\n",
    "        <td>Nivel de demanda del producto en el mercado durante el mes.</td>\n",
    "    </tr>\n",
    "    <tr>\n",
    "        <td>FESTIVIDAD</td>\n",
    "        <td>Indicador binario que señala si hubo una festividad durante el mes (0: No, 1: Sí).</td>\n",
    "    </tr>\n",
    "    <tr>\n",
    "        <td>PRECIO_DE_VENTA</td>\n",
    "        <td>Precio de venta del producto durante el mes.</td>\n",
    "    </tr>\n",
    "    <tr>\n",
    "        <td>PRODUCTOS_VENDIDOS</td>\n",
    "        <td>Cantidad de productos vendidos durante el mes.</td>\n",
    "    </tr>\n",
    "</table>\n"
   ]
  },
  {
   "cell_type": "markdown",
   "id": "78f5fe76",
   "metadata": {},
   "source": [
    "## <font size=\"6\"><div style=\"border-radius:10px;border: 2px solid #DEB887;color:white;padding: 20px;background-color:#22938d;\"> 🎯 Objetivo del Proyecto</div> </font>\n"
   ]
  },
  {
   "cell_type": "markdown",
   "id": "57afd187",
   "metadata": {},
   "source": []
  },
  {
   "cell_type": "code",
   "execution_count": 1,
   "id": "initial_id",
   "metadata": {
    "ExecuteTime": {
     "end_time": "2024-06-10T03:27:13.397568500Z",
     "start_time": "2024-06-10T03:27:07.843333400Z"
    },
    "collapsed": true
   },
   "outputs": [
    {
     "name": "stderr",
     "output_type": "stream",
     "text": [
      "C:\\Users\\victo\\AppData\\Local\\Temp\\ipykernel_7884\\3150896650.py:186: FutureWarning: Styler.applymap has been deprecated. Use Styler.map instead.\n",
      "  styled_df = df.style.applymap(color_r2, subset=['R²'])\n"
     ]
    },
    {
     "name": "stdout",
     "output_type": "stream",
     "text": [
      "                       Modelo       MAE        MSE      RMSE        R²\n",
      "10   Random Forest Regression  0.959000   1.561285  1.249514  0.912484\n",
      "0            Regresión Lineal  1.063272   2.100578  1.449337  0.882255\n",
      "9       Polynomial Regression  1.263794   2.533382  1.591660  0.857994\n",
      "1            Lasso Regression  1.331147   2.854686  1.689582  0.839984\n",
      "7     Ridge Linear Regression  1.782706   5.646051  2.376142  0.683517\n",
      "8      Elastic-Net Regression  2.202886   6.290515  2.508090  0.647393\n",
      "3           Gradient Boosting  1.594093   7.822776  2.796923  0.561504\n",
      "2   Support Vector Regression  2.996468   9.701688  3.114753  0.456183\n",
      "4                         SVM  2.996468   9.701688  3.114753  0.456183\n",
      "5                         KNN  3.000000  10.360000  3.218695  0.419283\n",
      "6                     XGBoost  2.265084  17.881608  4.228665 -0.002332\n"
     ]
    }
   ],
   "source": [
    "import dataframe_image as dfi\n",
    "import pandas as pd\n",
    "import numpy as np\n",
    "from sklearn.ensemble import RandomForestRegressor\n",
    "from sklearn.model_selection import train_test_split, cross_val_score, KFold\n",
    "from sklearn.preprocessing import StandardScaler, MinMaxScaler\n",
    "from sklearn.metrics import mean_squared_error, mean_absolute_error, r2_score, make_scorer\n",
    "from sklearn.linear_model import LinearRegression, Lasso, Ridge, ElasticNet\n",
    "from sklearn.svm import SVR\n",
    "from sklearn.neighbors import KNeighborsRegressor\n",
    "from sklearn.ensemble import GradientBoostingRegressor\n",
    "from xgboost import XGBRegressor\n",
    "from sklearn.pipeline import make_pipeline\n",
    "from sklearn.preprocessing import PolynomialFeatures\n",
    "from pyod.models.knn import KNN\n",
    "import os\n",
    "\n",
    "\n",
    "def normalizar_estandarizar(df):\n",
    "    scaler = MinMaxScaler()\n",
    "    df_normalized = pd.DataFrame(scaler.fit_transform(df), columns=df.columns)\n",
    "\n",
    "    standardizer = StandardScaler()\n",
    "    df_standardized = pd.DataFrame(standardizer.fit_transform(df_normalized), columns=df.columns)\n",
    "\n",
    "    return df_standardized\n",
    "\n",
    "\n",
    "def evaluar_modelo(modelo, X_train, y_train, X_test, y_test):\n",
    "    modelo.fit(X_train, y_train)\n",
    "    predicciones = modelo.predict(X_test)\n",
    "    mae = mean_absolute_error(y_test, predicciones)\n",
    "    mse = mean_squared_error(y_test, predicciones)\n",
    "    rmse = np.sqrt(mse)\n",
    "    r2 = r2_score(y_test, predicciones)\n",
    "    return mae, mse, rmse, r2\n",
    "\n",
    "\n",
    "def detectar_outliers_pyod(df):\n",
    "    outliers = {}\n",
    "    for column in df.columns:\n",
    "        # Utilizar KNN para la detección de outliers\n",
    "        detector = KNN()\n",
    "        data = df[[column]].values\n",
    "        detector.fit(data)\n",
    "        # Predicción: 0 significa normal, 1 significa outlier\n",
    "        pred = detector.labels_\n",
    "        outliers[column] = pred.sum()  # Número de outliers en la columna\n",
    "\n",
    "    # Filtrar columnas que tienen más del 5% de datos como outliers\n",
    "    columnas_con_outliers = [col for col, num_outliers in outliers.items() if num_outliers > 0.05 * len(df)]\n",
    "\n",
    "    return columnas_con_outliers\n",
    "\n",
    "\n",
    "def handle_outliers(column, cap_value=None):\n",
    "    # Calcula el rango intercuartílico (IQR)\n",
    "    Q1 = column.quantile(0.25)\n",
    "    Q3 = column.quantile(0.75)\n",
    "    IQR = Q3 - Q1\n",
    "\n",
    "    # Define los límites superior e inferior para identificar los valores atípicos\n",
    "    lower_limit = Q1 - 1.5 * IQR\n",
    "    upper_limit = Q3 + 1.5 * IQR\n",
    "\n",
    "    # Acotar los valores atípicos\n",
    "    if cap_value is not None:\n",
    "        column = column.clip(lower=lower_limit, upper=cap_value)\n",
    "    else:\n",
    "        column = column.clip(lower=lower_limit, upper=upper_limit)\n",
    "\n",
    "    return column\n",
    "\n",
    "\n",
    "def detectar_columnas_ruidosas(df, threshold=0.05):\n",
    "    \"\"\"\n",
    "    Esta función identifica las columnas ruidosas en un DataFrame basándose en la proporción de valores únicos.\n",
    "\n",
    "    Args:\n",
    "    - df: DataFrame de pandas.\n",
    "    - threshold: Umbral para considerar una columna como ruidosa. El valor predeterminado es 0.05 (5%).\n",
    "\n",
    "    Returns:\n",
    "    - columnas_ruidosas: Lista de nombres de columnas consideradas ruidosas.\n",
    "    \"\"\"\n",
    "    columnas_ruidosas = []\n",
    "    total_filas = len(df)\n",
    "\n",
    "    for columna in df.columns:\n",
    "        num_valores_unicos = df[columna].nunique()\n",
    "        proporcion_valores_unicos = num_valores_unicos / total_filas\n",
    "\n",
    "        if proporcion_valores_unicos < threshold:\n",
    "            columnas_ruidosas.append(columna)\n",
    "\n",
    "    return columnas_ruidosas\n",
    "\n",
    "\n",
    "def flujo_completo(dataset_file, target_column):\n",
    "    # Leer el archivo Excel\n",
    "    df = pd.read_excel(dataset_file)\n",
    "\n",
    "    # Detectar columnas con outliers usando PyOD\n",
    "    columnas_outliers_pyod = detectar_outliers_pyod(df)\n",
    "\n",
    "    # Iterar sobre las columnas con outliers y manejarlos\n",
    "    for columna in columnas_outliers_pyod:\n",
    "        # Manejar outliers en la columna actual\n",
    "        df[columna] = handle_outliers(df[columna])\n",
    "\n",
    "    # Detectar columnas ruidosas usando pandas-profiling\n",
    "    columnas_ruidosas = detectar_columnas_ruidosas(df)\n",
    "\n",
    "    # Eliminar las columnas ruidosas del DataFrame\n",
    "    df = df.drop(columns=columnas_ruidosas)\n",
    "\n",
    "    # Separar las características y el objetivo\n",
    "    X = df.drop(columns=[target_column])\n",
    "    y = df[target_column]\n",
    "\n",
    "    # Normalizar y estandarizar los datos\n",
    "    X = normalizar_estandarizar(X)\n",
    "\n",
    "    # Dividir en conjuntos de entrenamiento y prueba\n",
    "    X_train, X_test, y_train, y_test = train_test_split(X, y, test_size=0.2, random_state=42)\n",
    "\n",
    "    # Modelos a evaluar\n",
    "    modelos = {\n",
    "        'Regresión Lineal': LinearRegression(),\n",
    "        'Lasso Regression': Lasso(),\n",
    "        'Support Vector Regression': SVR(),\n",
    "        'Gradient Boosting': GradientBoostingRegressor(random_state=42),\n",
    "        'SVM': SVR(),\n",
    "        'KNN': KNeighborsRegressor(),\n",
    "        'XGBoost': XGBRegressor(random_state=42),\n",
    "        'Ridge Linear Regression': Ridge(),\n",
    "        'Elastic-Net Regression': ElasticNet(),\n",
    "        'Polynomial Regression': make_pipeline(PolynomialFeatures(degree=2), LinearRegression())\n",
    "    }\n",
    "\n",
    "    resultados = []\n",
    "\n",
    "    for nombre, modelo in modelos.items():\n",
    "        mae, mse, rmse, r2 = evaluar_modelo(modelo, X_train, y_train, X_test, y_test)\n",
    "        resultados.append([nombre, mae, mse, rmse, r2])\n",
    "\n",
    "    # Evaluación especial para Random Forest con validación cruzada\n",
    "    bosque = RandomForestRegressor(n_estimators=100, criterion=\"squared_error\", max_features=\"sqrt\", bootstrap=True,\n",
    "                                   oob_score=True, random_state=42)\n",
    "    metrica = make_scorer(mean_squared_error, greater_is_better=False)\n",
    "    kf = KFold(n_splits=5, shuffle=True, random_state=42)\n",
    "    resultados_cross_val = cross_val_score(bosque, X, y, cv=kf, scoring=metrica)\n",
    "\n",
    "    bosque.fit(X, y)\n",
    "    predicciones_rf = bosque.predict(X_test)\n",
    "    mae_rf = mean_absolute_error(y_test, predicciones_rf)\n",
    "    mse_rf = mean_squared_error(y_test, predicciones_rf)\n",
    "    rmse_rf = np.sqrt(mse_rf)\n",
    "    r2_rf = r2_score(y_test, predicciones_rf)\n",
    "\n",
    "    resultados.append(['Random Forest Regression', mae_rf, mse_rf, rmse_rf, r2_rf])\n",
    "\n",
    "    # Crear un DataFrame con las métricas de los modelos\n",
    "    resultados_df = pd.DataFrame(resultados, columns=['Modelo', 'MAE', 'MSE', 'RMSE', 'R²'])\n",
    "\n",
    "    # Ordenar los resultados por R²\n",
    "    resultados_df = resultados_df.sort_values(by='R²', ascending=False)\n",
    "\n",
    "    # Aplicar estilos\n",
    "    def apply_styles(df):\n",
    "        # Establecer el estilo condicional para R²\n",
    "        def color_r2(value):\n",
    "            if value > 0.75:\n",
    "                color = '#11F248'  # Verde para valores altos\n",
    "            elif value > 0.50:\n",
    "                color = '#8AF211'  # Verde claro para valores medianos\n",
    "            else:\n",
    "                color = '#C4F423'  # Amarillo para valores bajos\n",
    "            return f'background-color: {color}; color: black'\n",
    "\n",
    "        # Resaltar el mejor modelo en negrita\n",
    "        def highlight_best(s):\n",
    "            is_max = s == s.max()\n",
    "            return ['font-weight: bold' if v else '' for v in is_max]\n",
    "\n",
    "        styled_df = df.style.applymap(color_r2, subset=['R²'])\n",
    "        styled_df = styled_df.apply(highlight_best, subset=['R²'])\n",
    "\n",
    "        # Estilos adicionales\n",
    "        styled_df = styled_df.set_table_styles([{\n",
    "            'selector': 'th',\n",
    "            'props': [('border', '1px solid black'), ('text-align', 'center')]\n",
    "        }, {\n",
    "            'selector': 'td',\n",
    "            'props': [('border', '1px solid black')]\n",
    "        }])\n",
    "\n",
    "        return styled_df\n",
    "\n",
    "    styled_resultados_df = apply_styles(resultados_df)\n",
    "\n",
    "    # Asegurarse de que la carpeta 'results' exista\n",
    "    os.makedirs('results', exist_ok=True)\n",
    "\n",
    "    # Exportar a Excel\n",
    "    excel_filename = f\"results/modelo_{dataset_file.split('/')[-1].split('.')[0]}.xlsx\"\n",
    "    styled_resultados_df.to_excel(excel_filename, engine='openpyxl', index=False)\n",
    "\n",
    "    # Exportar a PNG\n",
    "    png_filename = f\"results/modelo_{dataset_file.split('/')[-1].split('.')[0]}.png\"\n",
    "    dfi.export(styled_resultados_df, png_filename)\n",
    "\n",
    "    return resultados_df\n",
    "\n",
    "\n",
    "# Ejemplo de uso\n",
    "dataset_file = \"../Data/Melsol-test.xlsx\"\n",
    "target_column = 'PRODUCTOS VENDIDOS'\n",
    "resultados = flujo_completo(dataset_file, target_column)\n",
    "print(resultados)\n"
   ]
  },
  {
   "cell_type": "code",
   "execution_count": 2,
   "id": "c89574bc2262d3fd",
   "metadata": {
    "ExecuteTime": {
     "end_time": "2024-06-10T03:33:06.506867Z",
     "start_time": "2024-06-10T03:32:38.380695300Z"
    },
    "collapsed": false
   },
   "outputs": [
    {
     "name": "stdout",
     "output_type": "stream",
     "text": [
      "Procesando archivo: ../Ferretería/Alicate-Entrenamiento.xlsx\n"
     ]
    },
    {
     "name": "stderr",
     "output_type": "stream",
     "text": [
      "C:\\Users\\victo\\AppData\\Local\\Temp\\ipykernel_7884\\3150896650.py:186: FutureWarning: Styler.applymap has been deprecated. Use Styler.map instead.\n",
      "  styled_df = df.style.applymap(color_r2, subset=['R²'])\n"
     ]
    },
    {
     "name": "stdout",
     "output_type": "stream",
     "text": [
      "                       Modelo        MAE         MSE       RMSE        R²\n",
      "10   Random Forest Regression   0.690000    0.782500   0.884590  0.998014\n",
      "7     Ridge Linear Regression   1.552957    2.573945   1.604352  0.993467\n",
      "0            Regresión Lineal   1.336808    3.267287   1.807564  0.991707\n",
      "1            Lasso Regression   2.201301    4.959569   2.227009  0.987412\n",
      "8      Elastic-Net Regression   3.226121   11.908352   3.450848  0.969776\n",
      "3           Gradient Boosting   2.825078   21.296416   4.614804  0.945948\n",
      "6                     XGBoost   3.795584   28.163646   5.306943  0.928519\n",
      "5                         KNN   5.000000   33.800000   5.813777  0.914213\n",
      "2   Support Vector Regression  16.139149  288.712724  16.991549  0.267227\n",
      "4                         SVM  16.139149  288.712724  16.991549  0.267227\n",
      "9       Polynomial Regression  12.275450  510.734584  22.599438 -0.296281\n",
      "Procesando archivo: ../Ferretería/Destornillador-Entrenamiento.xlsx\n"
     ]
    },
    {
     "name": "stderr",
     "output_type": "stream",
     "text": [
      "C:\\Users\\victo\\AppData\\Local\\Temp\\ipykernel_7884\\3150896650.py:186: FutureWarning: Styler.applymap has been deprecated. Use Styler.map instead.\n",
      "  styled_df = df.style.applymap(color_r2, subset=['R²'])\n"
     ]
    },
    {
     "name": "stdout",
     "output_type": "stream",
     "text": [
      "                       Modelo       MAE         MSE       RMSE        R²\n",
      "10   Random Forest Regression  0.648000    0.653880   0.808628  0.993284\n",
      "7     Ridge Linear Regression  0.663111    0.850456   0.922202  0.991265\n",
      "0            Regresión Lineal  0.708245    0.945114   0.972170  0.990293\n",
      "6                     XGBoost  0.871273    1.014613   1.007280  0.989579\n",
      "8      Elastic-Net Regression  1.640592    3.598776   1.897044  0.963036\n",
      "1            Lasso Regression  1.806172    3.757147   1.938336  0.961410\n",
      "5                         KNN  2.000000    5.072000   2.252110  0.947905\n",
      "3           Gradient Boosting  1.781796    5.655119   2.378049  0.941915\n",
      "2   Support Vector Regression  7.323455   64.459568   8.028672  0.337926\n",
      "4                         SVM  7.323455   64.459568   8.028672  0.337926\n",
      "9       Polynomial Regression  7.070046  217.583064  14.750697 -1.234830\n",
      "Procesando archivo: ../Ferretería/Focos-Entrenamiento.xlsx\n"
     ]
    },
    {
     "name": "stderr",
     "output_type": "stream",
     "text": [
      "C:\\Users\\victo\\AppData\\Local\\Temp\\ipykernel_7884\\3150896650.py:186: FutureWarning: Styler.applymap has been deprecated. Use Styler.map instead.\n",
      "  styled_df = df.style.applymap(color_r2, subset=['R²'])\n"
     ]
    },
    {
     "name": "stdout",
     "output_type": "stream",
     "text": [
      "                       Modelo        MAE         MSE       RMSE        R²\n",
      "10   Random Forest Regression   0.570000    0.443500   0.665958  0.999048\n",
      "0            Regresión Lineal   1.138459    1.580102   1.257021  0.996609\n",
      "7     Ridge Linear Regression   1.781444    4.066218   2.016487  0.991274\n",
      "1            Lasso Regression   1.957083    4.301054   2.073898  0.990770\n",
      "9       Polynomial Regression   1.590492    6.656584   2.580036  0.985715\n",
      "3           Gradient Boosting   1.770127    7.622238   2.760840  0.983643\n",
      "8      Elastic-Net Regression   3.859663   18.818397   4.338018  0.959617\n",
      "6                     XGBoost   4.015581   29.996258   5.476884  0.935630\n",
      "5                         KNN   8.000000   74.000000   8.602325  0.841202\n",
      "2   Support Vector Regression  17.683940  358.235256  18.927104  0.231255\n",
      "4                         SVM  17.683940  358.235256  18.927104  0.231255\n",
      "Procesando archivo: ../Ferretería/Martillo-Entrenamiento.xlsx\n"
     ]
    },
    {
     "name": "stderr",
     "output_type": "stream",
     "text": [
      "C:\\Users\\victo\\AppData\\Local\\Temp\\ipykernel_7884\\3150896650.py:186: FutureWarning: Styler.applymap has been deprecated. Use Styler.map instead.\n",
      "  styled_df = df.style.applymap(color_r2, subset=['R²'])\n"
     ]
    },
    {
     "name": "stdout",
     "output_type": "stream",
     "text": [
      "                       Modelo        MAE         MSE       RMSE        R²\n",
      "10   Random Forest Regression   0.700000    0.671000   0.819146  0.998560\n",
      "0            Regresión Lineal   1.573879    2.708042   1.645613  0.994189\n",
      "7     Ridge Linear Regression   1.502778    3.168835   1.780122  0.993200\n",
      "1            Lasso Regression   1.921357    4.138272   2.034274  0.991120\n",
      "3           Gradient Boosting   2.720640    9.780281   3.127344  0.979012\n",
      "8      Elastic-Net Regression   3.556846   16.406538   4.050499  0.964793\n",
      "6                     XGBoost   4.031268   30.000428   5.477265  0.935621\n",
      "9       Polynomial Regression   5.869699   49.154152   7.011002  0.894519\n",
      "5                         KNN   8.000000   74.000000   8.602325  0.841202\n",
      "2   Support Vector Regression  17.807932  362.705477  19.044828  0.221662\n",
      "4                         SVM  17.807932  362.705477  19.044828  0.221662\n",
      "Procesando archivo: ../Ferretería/Tornillos-ENTRENAMIENTO.xlsx\n"
     ]
    },
    {
     "name": "stderr",
     "output_type": "stream",
     "text": [
      "C:\\Users\\victo\\AppData\\Local\\Temp\\ipykernel_7884\\3150896650.py:186: FutureWarning: Styler.applymap has been deprecated. Use Styler.map instead.\n",
      "  styled_df = df.style.applymap(color_r2, subset=['R²'])\n"
     ]
    },
    {
     "name": "stdout",
     "output_type": "stream",
     "text": [
      "                       Modelo         MAE           MSE        RMSE        R²\n",
      "10   Random Forest Regression    8.500000    112.950000   10.627794  0.995722\n",
      "3           Gradient Boosting   12.249940    384.687712   19.613457  0.985428\n",
      "1            Lasso Regression   17.032287    479.540983   21.898424  0.981836\n",
      "7     Ridge Linear Regression   19.187483    616.259171   24.824568  0.976657\n",
      "0            Regresión Lineal   22.404133    648.664169   25.468886  0.975429\n",
      "6                     XGBoost   20.107977    992.554843   31.504838  0.962403\n",
      "8      Elastic-Net Regression   38.702999   1683.604546   41.031750  0.936227\n",
      "5                         KNN   60.000000   4240.000000   65.115282  0.839394\n",
      "9       Polynomial Regression   62.298886  10138.093973  100.688102  0.615981\n",
      "2   Support Vector Regression  157.836549  27334.297075  165.330872 -0.035390\n",
      "4                         SVM  157.836549  27334.297075  165.330872 -0.035390\n",
      "Procesando archivo: ../Ferretería/Tuerca-Entrenamiento.xlsx\n"
     ]
    },
    {
     "name": "stderr",
     "output_type": "stream",
     "text": [
      "C:\\Users\\victo\\AppData\\Local\\Temp\\ipykernel_7884\\3150896650.py:186: FutureWarning: Styler.applymap has been deprecated. Use Styler.map instead.\n",
      "  styled_df = df.style.applymap(color_r2, subset=['R²'])\n"
     ]
    },
    {
     "name": "stdout",
     "output_type": "stream",
     "text": [
      "                       Modelo         MAE           MSE        RMSE        R²\n",
      "10   Random Forest Regression    5.600000     53.600000    7.321202  0.997970\n",
      "0            Regresión Lineal   14.470511    313.286104   17.699890  0.988133\n",
      "1            Lasso Regression   14.480601    328.427934   18.122581  0.987560\n",
      "7     Ridge Linear Regression   17.947229    415.490196   20.383577  0.984262\n",
      "8      Elastic-Net Regression   26.994249    934.443209   30.568664  0.964604\n",
      "3           Gradient Boosting   24.479345   1056.057933   32.497045  0.959998\n",
      "9       Polynomial Regression   28.141415   1361.797644   36.902543  0.948417\n",
      "6                     XGBoost   34.965900   2119.884299   46.042201  0.919701\n",
      "5                         KNN   46.000000   2700.000000   51.961524  0.897727\n",
      "2   Support Vector Regression  156.502783  26883.160265  163.960850 -0.018302\n",
      "4                         SVM  156.502783  26883.160265  163.960850 -0.018302\n"
     ]
    }
   ],
   "source": [
    "# Lista de archivos de entrenamiento\n",
    "training_files = [\n",
    "    \"Alicate-Entrenamiento.xlsx\",\n",
    "    \"Destornillador-Entrenamiento.xlsx\",\n",
    "    \"Focos-Entrenamiento.xlsx\",\n",
    "    \"Martillo-Entrenamiento.xlsx\",\n",
    "    \"Tornillos-ENTRENAMIENTO.xlsx\",\n",
    "    \"Tuerca-Entrenamiento.xlsx\"\n",
    "]\n",
    "\n",
    "# Nombre de la columna objetivo\n",
    "target_column = 'PRODUCTOS VENDIDOS'\n",
    "\n",
    "# Aplicar flujo completo a cada archivo de entrenamiento\n",
    "for file in training_files:\n",
    "    dataset_file = f\"../Ferretería/{file}\"\n",
    "    print(f\"Procesando archivo: {dataset_file}\")\n",
    "    resultados = flujo_completo(dataset_file, target_column)\n",
    "    print(resultados)"
   ]
  },
  {
   "cell_type": "code",
   "execution_count": 3,
   "id": "b1a57c617473068c",
   "metadata": {
    "ExecuteTime": {
     "end_time": "2024-06-10T03:35:33.258267800Z",
     "start_time": "2024-06-10T03:34:53.075013800Z"
    },
    "collapsed": false
   },
   "outputs": [
    {
     "name": "stdout",
     "output_type": "stream",
     "text": [
      "Procesando archivo: ../Tecnológicos/Celular-Entrenamiento.xlsx\n"
     ]
    },
    {
     "name": "stderr",
     "output_type": "stream",
     "text": [
      "C:\\Users\\victo\\AppData\\Local\\Temp\\ipykernel_7884\\3150896650.py:186: FutureWarning: Styler.applymap has been deprecated. Use Styler.map instead.\n",
      "  styled_df = df.style.applymap(color_r2, subset=['R²'])\n"
     ]
    },
    {
     "name": "stdout",
     "output_type": "stream",
     "text": [
      "                       Modelo        MAE         MSE       RMSE        R²\n",
      "10   Random Forest Regression   1.440000    3.055000   1.747856  0.990271\n",
      "0            Regresión Lineal   1.000000    5.000000   2.236068  0.984076\n",
      "9       Polynomial Regression   1.196324    5.113206   2.261240  0.983716\n",
      "3           Gradient Boosting   2.037046    7.108276   2.666135  0.977362\n",
      "6                     XGBoost   2.296861    9.618470   3.101366  0.969368\n",
      "1            Lasso Regression   2.693719   10.878452   3.298250  0.965355\n",
      "7     Ridge Linear Regression   2.517537   12.504514   3.536172  0.960177\n",
      "8      Elastic-Net Regression   6.790021   54.912336   7.410286  0.825120\n",
      "5                         KNN   8.600000   92.600000   9.622889  0.705096\n",
      "2   Support Vector Regression  15.509352  270.549383  16.448385  0.138378\n",
      "4                         SVM  15.509352  270.549383  16.448385  0.138378\n",
      "Procesando archivo: ../Tecnológicos/Disco Duro-ENTRENAMIENTO.xlsx\n"
     ]
    },
    {
     "name": "stderr",
     "output_type": "stream",
     "text": [
      "C:\\Users\\victo\\AppData\\Local\\Temp\\ipykernel_7884\\3150896650.py:186: FutureWarning: Styler.applymap has been deprecated. Use Styler.map instead.\n",
      "  styled_df = df.style.applymap(color_r2, subset=['R²'])\n"
     ]
    },
    {
     "name": "stdout",
     "output_type": "stream",
     "text": [
      "                       Modelo        MAE         MSE       RMSE        R²\n",
      "10   Random Forest Regression   0.780000    0.763000   0.873499  0.997215\n",
      "7     Ridge Linear Regression   0.983780    1.614658   1.270692  0.994107\n",
      "0            Regresión Lineal   0.975594    1.834449   1.354418  0.993305\n",
      "3           Gradient Boosting   1.458665    3.510342   1.873591  0.987189\n",
      "1            Lasso Regression   2.046836    7.414272   2.722916  0.972941\n",
      "8      Elastic-Net Regression   2.392033    8.476034   2.911363  0.969066\n",
      "6                     XGBoost   2.043671    8.713692   2.951896  0.968198\n",
      "5                         KNN   5.200000   39.600000   6.292853  0.855474\n",
      "9       Polynomial Regression   6.930064   61.911303   7.868374  0.774046\n",
      "2   Support Vector Regression  12.176150  194.866794  13.959470  0.288807\n",
      "4                         SVM  12.176150  194.866794  13.959470  0.288807\n",
      "Procesando archivo: ../Tecnológicos/Fuentes de Poder-Entrenamiento.xlsx\n"
     ]
    },
    {
     "name": "stderr",
     "output_type": "stream",
     "text": [
      "C:\\Users\\victo\\AppData\\Local\\Temp\\ipykernel_7884\\3150896650.py:186: FutureWarning: Styler.applymap has been deprecated. Use Styler.map instead.\n",
      "  styled_df = df.style.applymap(color_r2, subset=['R²'])\n"
     ]
    },
    {
     "name": "stdout",
     "output_type": "stream",
     "text": [
      "                       Modelo        MAE         MSE       RMSE        R²\n",
      "10   Random Forest Regression   0.820000    0.986000   0.992975  0.995822\n",
      "7     Ridge Linear Regression   1.031224    1.668353   1.291647  0.992931\n",
      "1            Lasso Regression   1.543720    2.992606   1.729915  0.987319\n",
      "6                     XGBoost   1.877907    6.155563   2.481041  0.973917\n",
      "0            Regresión Lineal   2.318276   10.203499   3.194292  0.956765\n",
      "3           Gradient Boosting   2.808305   10.468024   3.235433  0.955644\n",
      "8      Elastic-Net Regression   3.596478   13.828927   3.718726  0.941403\n",
      "5                         KNN   5.600000   41.600000   6.449806  0.823729\n",
      "2   Support Vector Regression  12.178653  173.118209  13.157439  0.266448\n",
      "4                         SVM  12.178653  173.118209  13.157439  0.266448\n",
      "9       Polynomial Regression  11.863879  494.197210  22.230547 -1.094056\n",
      "Procesando archivo: ../Tecnológicos/Laptop - Entrenamiento.xlsx\n"
     ]
    },
    {
     "name": "stderr",
     "output_type": "stream",
     "text": [
      "C:\\Users\\victo\\AppData\\Local\\Temp\\ipykernel_7884\\3150896650.py:186: FutureWarning: Styler.applymap has been deprecated. Use Styler.map instead.\n",
      "  styled_df = df.style.applymap(color_r2, subset=['R²'])\n"
     ]
    },
    {
     "name": "stdout",
     "output_type": "stream",
     "text": [
      "                       Modelo        MAE         MSE       RMSE         R²\n",
      "10   Random Forest Regression   1.230000    2.271940   1.507296   0.918158\n",
      "0            Regresión Lineal   1.745332    4.469315   2.114075   0.839002\n",
      "7     Ridge Linear Regression   1.725688    4.862864   2.205190   0.824825\n",
      "6                     XGBoost   2.075092    8.627860   2.937322   0.689198\n",
      "8      Elastic-Net Regression   3.020654   12.637758   3.554962   0.544749\n",
      "3           Gradient Boosting   3.082671   14.383359   3.792540   0.481867\n",
      "1            Lasso Regression   3.509256   16.188377   4.023478   0.416845\n",
      "5                         KNN   3.440000   22.432000   4.736243   0.191931\n",
      "2   Support Vector Regression   4.259418   26.748208   5.171867   0.036448\n",
      "4                         SVM   4.259418   26.748208   5.171867   0.036448\n",
      "9       Polynomial Regression  21.751508  871.651196  29.523740 -30.399539\n",
      "Procesando archivo: ../Tecnológicos/Smartwatch-Entrenamiento.xlsx\n"
     ]
    },
    {
     "name": "stderr",
     "output_type": "stream",
     "text": [
      "C:\\Users\\victo\\AppData\\Local\\Temp\\ipykernel_7884\\3150896650.py:186: FutureWarning: Styler.applymap has been deprecated. Use Styler.map instead.\n",
      "  styled_df = df.style.applymap(color_r2, subset=['R²'])\n"
     ]
    },
    {
     "name": "stdout",
     "output_type": "stream",
     "text": [
      "                       Modelo        MAE         MSE       RMSE        R²\n",
      "10   Random Forest Regression   0.746583    0.700410   0.836905  0.958611\n",
      "3           Gradient Boosting   1.146979    2.574537   1.604537  0.847863\n",
      "6                     XGBoost   1.252877    2.839892   1.685198  0.832182\n",
      "0            Regresión Lineal   1.813389    5.601739   2.366799  0.668977\n",
      "1            Lasso Regression   1.676096    6.122932   2.474456  0.638178\n",
      "7     Ridge Linear Regression   2.184236    7.924482   2.815046  0.531719\n",
      "8      Elastic-Net Regression   2.229497    8.552220   2.924418  0.494624\n",
      "5                         KNN   2.985000   11.640125   3.411763  0.312151\n",
      "2   Support Vector Regression   3.298634   15.015946   3.875041  0.112664\n",
      "4                         SVM   3.298634   15.015946   3.875041  0.112664\n",
      "9       Polynomial Regression  11.242737  150.052102  12.249576 -7.867017\n",
      "Procesando archivo: ../Tecnológicos/Tablet - Entrenamiento.xlsx\n"
     ]
    },
    {
     "name": "stderr",
     "output_type": "stream",
     "text": [
      "C:\\Users\\victo\\AppData\\Local\\Temp\\ipykernel_7884\\3150896650.py:186: FutureWarning: Styler.applymap has been deprecated. Use Styler.map instead.\n",
      "  styled_df = df.style.applymap(color_r2, subset=['R²'])\n"
     ]
    },
    {
     "name": "stdout",
     "output_type": "stream",
     "text": [
      "                       Modelo       MAE        MSE      RMSE        R²\n",
      "10   Random Forest Regression  0.989000   1.620398  1.272948  0.939174\n",
      "3           Gradient Boosting  2.618095   8.665089  2.943652  0.674734\n",
      "0            Regresión Lineal  2.142230   8.995064  2.999177  0.662347\n",
      "7     Ridge Linear Regression  2.034426   9.197425  3.032726  0.654751\n",
      "5                         KNN  2.300000  10.109000  3.179465  0.620533\n",
      "8      Elastic-Net Regression  2.478517  11.256632  3.355090  0.577454\n",
      "1            Lasso Regression  2.622158  12.346210  3.513717  0.536554\n",
      "6                     XGBoost  2.808021  12.690736  3.562406  0.523621\n",
      "2   Support Vector Regression  4.340064  22.102623  4.701343  0.170322\n",
      "4                         SVM  4.340064  22.102623  4.701343  0.170322\n",
      "9       Polynomial Regression  8.696252  93.527534  9.670963 -2.510793\n"
     ]
    }
   ],
   "source": [
    "import os\n",
    "\n",
    "# Lista de archivos de entrenamiento en la carpeta Tecnológicos\n",
    "training_files_tecnologicos = [\n",
    "    \"Celular-Entrenamiento.xlsx\",\n",
    "    \"Disco Duro-ENTRENAMIENTO.xlsx\",\n",
    "    \"Fuentes de Poder-Entrenamiento.xlsx\",\n",
    "    \"Laptop - Entrenamiento.xlsx\",\n",
    "    \"Smartwatch-Entrenamiento.xlsx\",\n",
    "    \"Tablet - Entrenamiento.xlsx\"\n",
    "]\n",
    "\n",
    "# Nombre de la columna objetivo\n",
    "target_column = 'PRODUCTOS VENDIDOS'\n",
    "\n",
    "# Aplicar flujo completo a cada archivo de entrenamiento en la carpeta Tecnológicos\n",
    "for file in training_files_tecnologicos:\n",
    "    dataset_file = f\"../Tecnológicos/{file}\"\n",
    "    print(f\"Procesando archivo: {dataset_file}\")\n",
    "    resultados = flujo_completo(dataset_file, target_column)\n",
    "    print(resultados)\n"
   ]
  },
  {
   "cell_type": "code",
   "execution_count": 11,
   "id": "01J04NQR23DCRG04B8HBRYWWK0",
   "metadata": {},
   "outputs": [
    {
     "name": "stdout",
     "output_type": "stream",
     "text": [
      "Procesando archivo: ../Farmacia/Aciclovir 800 MG Tabx10-Entrenamiento.xlsx\n"
     ]
    },
    {
     "name": "stderr",
     "output_type": "stream",
     "text": [
      "C:\\Users\\victo\\AppData\\Local\\Temp\\ipykernel_7884\\3150896650.py:186: FutureWarning:\n",
      "\n",
      "Styler.applymap has been deprecated. Use Styler.map instead.\n",
      "\n"
     ]
    },
    {
     "name": "stdout",
     "output_type": "stream",
     "text": [
      "                       Modelo       MAE         MSE       RMSE        R²\n",
      "0            Regresión Lineal  1.135334    2.097817   1.448384  0.985075\n",
      "10   Random Forest Regression  1.508000    2.839560   1.685099  0.979798\n",
      "7     Ridge Linear Regression  1.778632    4.249796   2.061503  0.969765\n",
      "9       Polynomial Regression  2.022144    5.908109   2.430660  0.957967\n",
      "6                     XGBoost  1.948755    6.475819   2.544763  0.953928\n",
      "1            Lasso Regression  2.031989    7.331046   2.707591  0.947844\n",
      "3           Gradient Boosting  2.502437   12.314328   3.509178  0.912391\n",
      "8      Elastic-Net Regression  3.915479   18.758227   4.331077  0.866546\n",
      "5                         KNN  5.440000   31.792000   5.638440  0.773819\n",
      "2   Support Vector Regression  9.952319  111.327615  10.551190  0.207971\n",
      "4                         SVM  9.952319  111.327615  10.551190  0.207971\n",
      "Procesando archivo: ../Farmacia/Aciclovir UNG Tópico-ENTRENAMIENTO.xlsx\n"
     ]
    },
    {
     "name": "stderr",
     "output_type": "stream",
     "text": [
      "C:\\Users\\victo\\AppData\\Local\\Temp\\ipykernel_7884\\3150896650.py:186: FutureWarning:\n",
      "\n",
      "Styler.applymap has been deprecated. Use Styler.map instead.\n",
      "\n"
     ]
    },
    {
     "name": "stdout",
     "output_type": "stream",
     "text": [
      "                       Modelo       MAE        MSE      RMSE        R²\n",
      "10   Random Forest Regression  0.528000   0.463400  0.680735  0.982340\n",
      "7     Ridge Linear Regression  0.650290   0.548397  0.740538  0.979101\n",
      "9       Polynomial Regression  0.625333   0.555963  0.745630  0.978812\n",
      "0            Regresión Lineal  0.628871   0.561527  0.749351  0.978600\n",
      "8      Elastic-Net Regression  1.448192   2.839643  1.685124  0.891782\n",
      "6                     XGBoost  1.312729   2.973429  1.724363  0.886683\n",
      "3           Gradient Boosting  1.471050   3.072097  1.752740  0.882923\n",
      "1            Lasso Regression  1.537070   3.605400  1.898789  0.862599\n",
      "5                         KNN  2.320000   7.392000  2.718823  0.718293\n",
      "2   Support Vector Regression  3.244889  15.777083  3.972038  0.398739\n",
      "4                         SVM  3.244889  15.777083  3.972038  0.398739\n",
      "Procesando archivo: ../Farmacia/Dencorub-Entrenamiento.xlsx\n"
     ]
    },
    {
     "name": "stderr",
     "output_type": "stream",
     "text": [
      "C:\\Users\\victo\\AppData\\Local\\Temp\\ipykernel_7884\\3150896650.py:186: FutureWarning:\n",
      "\n",
      "Styler.applymap has been deprecated. Use Styler.map instead.\n",
      "\n"
     ]
    },
    {
     "name": "stdout",
     "output_type": "stream",
     "text": [
      "                       Modelo       MAE       MSE      RMSE        R²\n",
      "0            Regresión Lineal  0.203469  0.051207  0.226291  0.991232\n",
      "10   Random Forest Regression  0.194000  0.056740  0.238202  0.990284\n",
      "7     Ridge Linear Regression  0.209121  0.060346  0.245654  0.989667\n",
      "3           Gradient Boosting  0.268044  0.135762  0.368459  0.976753\n",
      "6                     XGBoost  0.200219  0.200048  0.447267  0.965745\n",
      "9       Polynomial Regression  0.404254  0.280058  0.529205  0.952045\n",
      "5                         KNN  0.800000  0.800000  0.894427  0.863014\n",
      "8      Elastic-Net Regression  0.942747  1.103477  1.050465  0.811048\n",
      "2   Support Vector Regression  0.998138  1.258932  1.122022  0.784429\n",
      "4                         SVM  0.998138  1.258932  1.122022  0.784429\n",
      "1            Lasso Regression  1.400255  2.305745  1.518468  0.605181\n",
      "Procesando archivo: ../Farmacia/Diclofenaco-Entrenamiento.xlsx\n"
     ]
    },
    {
     "name": "stderr",
     "output_type": "stream",
     "text": [
      "C:\\Users\\victo\\AppData\\Local\\Temp\\ipykernel_7884\\3150896650.py:186: FutureWarning:\n",
      "\n",
      "Styler.applymap has been deprecated. Use Styler.map instead.\n",
      "\n"
     ]
    },
    {
     "name": "stdout",
     "output_type": "stream",
     "text": [
      "                       Modelo        MAE         MSE       RMSE        R²\n",
      "7     Ridge Linear Regression   1.861864    4.213750   2.052742  0.993137\n",
      "10   Random Forest Regression   2.750000   11.887500   3.447825  0.980639\n",
      "1            Lasso Regression   2.807913   12.617706   3.552141  0.979450\n",
      "6                     XGBoost   3.990147   28.124044   5.303211  0.954195\n",
      "8      Elastic-Net Regression   4.693875   29.074049   5.392036  0.952648\n",
      "0            Regresión Lineal   4.498029   29.579639   5.438717  0.951825\n",
      "3           Gradient Boosting   4.263944   30.809155   5.550600  0.949822\n",
      "5                         KNN  10.600000  161.400000  12.704330  0.737134\n",
      "9       Polynomial Regression  11.735845  216.186078  14.703268  0.647905\n",
      "2   Support Vector Regression  20.523779  581.210355  24.108305  0.053403\n",
      "4                         SVM  20.523779  581.210355  24.108305  0.053403\n",
      "Procesando archivo: ../Farmacia/Ibuprofeno-Entrenamiento.xlsx\n"
     ]
    },
    {
     "name": "stderr",
     "output_type": "stream",
     "text": [
      "C:\\Users\\victo\\AppData\\Local\\Temp\\ipykernel_7884\\3150896650.py:186: FutureWarning:\n",
      "\n",
      "Styler.applymap has been deprecated. Use Styler.map instead.\n",
      "\n"
     ]
    },
    {
     "name": "stdout",
     "output_type": "stream",
     "text": [
      "                       Modelo       MAE        MSE      RMSE        R²\n",
      "10   Random Forest Regression  0.662000   0.462170  0.679831  0.976892\n",
      "3           Gradient Boosting  1.590628   3.067012  1.751289  0.846649\n",
      "7     Ridge Linear Regression  1.415177   3.393882  1.842249  0.830306\n",
      "0            Regresión Lineal  1.531421   3.608814  1.899688  0.819559\n",
      "6                     XGBoost  1.758959   4.292430  2.071818  0.785378\n",
      "5                         KNN  2.200000   6.148000  2.479516  0.692600\n",
      "8      Elastic-Net Regression  2.641147   8.982019  2.997002  0.550899\n",
      "9       Polynomial Regression  2.433376   9.899085  3.146281  0.505046\n",
      "1            Lasso Regression  3.022502  11.660230  3.414708  0.416989\n",
      "2   Support Vector Regression  3.445291  16.520468  4.064538  0.173977\n",
      "4                         SVM  3.445291  16.520468  4.064538  0.173977\n",
      "Procesando archivo: ../Farmacia/Melsol-Entrenamiento.xlsx\n"
     ]
    },
    {
     "name": "stderr",
     "output_type": "stream",
     "text": [
      "C:\\Users\\victo\\AppData\\Local\\Temp\\ipykernel_7884\\3150896650.py:186: FutureWarning:\n",
      "\n",
      "Styler.applymap has been deprecated. Use Styler.map instead.\n",
      "\n"
     ]
    },
    {
     "name": "stdout",
     "output_type": "stream",
     "text": [
      "                       Modelo       MAE        MSE      RMSE        R²\n",
      "10   Random Forest Regression  0.959000   1.561285  1.249514  0.912484\n",
      "0            Regresión Lineal  1.063272   2.100578  1.449337  0.882255\n",
      "9       Polynomial Regression  1.263794   2.533382  1.591660  0.857994\n",
      "1            Lasso Regression  1.331147   2.854686  1.689582  0.839984\n",
      "7     Ridge Linear Regression  1.782706   5.646051  2.376142  0.683517\n",
      "8      Elastic-Net Regression  2.202886   6.290515  2.508090  0.647393\n",
      "3           Gradient Boosting  1.594093   7.822776  2.796923  0.561504\n",
      "2   Support Vector Regression  2.996468   9.701688  3.114753  0.456183\n",
      "4                         SVM  2.996468   9.701688  3.114753  0.456183\n",
      "5                         KNN  3.000000  10.360000  3.218695  0.419283\n",
      "6                     XGBoost  2.265084  17.881608  4.228665 -0.002332\n"
     ]
    }
   ],
   "source": [
    "# Lista de archivos de entrenamiento en la carpeta Farmacia\n",
    "training_files = [\n",
    "    \"Aciclovir 800 MG Tabx10-Entrenamiento.xlsx\",\n",
    "    \"Aciclovir UNG Tópico-ENTRENAMIENTO.xlsx\",\n",
    "    \"Dencorub-Entrenamiento.xlsx\",\n",
    "    \"Diclofenaco-Entrenamiento.xlsx\",\n",
    "    \"Ibuprofeno-Entrenamiento.xlsx\",\n",
    "    \"Melsol-Entrenamiento.xlsx\"\n",
    "]\n",
    "\n",
    "# Nombre de la columna objetivo\n",
    "target_column = 'PRODUCTOS VENDIDOS'\n",
    "\n",
    "# Aplicar flujo completo a cada archivo de entrenamiento\n",
    "for file in training_files:\n",
    "    dataset_file = f\"../Farmacia/{file}\"\n",
    "    print(f\"Procesando archivo: {dataset_file}\")\n",
    "    resultados = flujo_completo(dataset_file, target_column)\n",
    "    print(resultados)"
   ]
  },
  {
   "cell_type": "code",
   "execution_count": 4,
   "id": "a8eb071dd3babbb7",
   "metadata": {
    "ExecuteTime": {
     "end_time": "2024-06-10T03:44:52.565728200Z",
     "start_time": "2024-06-10T03:44:51.727979400Z"
    },
    "collapsed": false
   },
   "outputs": [
    {
     "data": {
      "text/plain": [
       "'reporte_predicciones.pdf'"
      ]
     },
     "execution_count": 4,
     "metadata": {},
     "output_type": "execute_result"
    }
   ],
   "source": [
    "from fpdf import FPDF\n",
    "\n",
    "# Función para crear el PDF\n",
    "def create_pdf(image_files):\n",
    "    # Clase personalizada que hereda de FPDF\n",
    "    class PDF(FPDF):\n",
    "        def header(self):\n",
    "            self.set_font('Arial', 'B', 12)\n",
    "            self.cell(0, 10, 'Resultados de Predicciones', 0, 1, 'C')\n",
    "\n",
    "        def footer(self):\n",
    "            self.set_y(-15)\n",
    "            self.set_font('Arial', 'I', 8)\n",
    "            self.cell(0, 10, f'Página {self.page_no()}', 0, 0, 'C')\n",
    "\n",
    "    pdf = PDF()  # A4 (210 by 297 mm)\n",
    "    pdf.set_auto_page_break(auto=True, margin=15)\n",
    "    pdf.add_page()\n",
    "\n",
    "    # Función para agregar una imagen con subtítulo al PDF\n",
    "    def add_image_with_title(pdf, image_file):\n",
    "        pdf.set_font('Arial', 'B', 12)\n",
    "        pdf.cell(0, 10, image_file, 0, 1, 'C')  # Agregar el nombre de la imagen como subtítulo\n",
    "        pdf.ln(2)\n",
    "        pdf.image(image_file, x=10, w=180)  # Agregar la imagen al PDF\n",
    "        pdf.ln(100)  # Mover a la siguiente línea\n",
    "\n",
    "    # Agregar cada imagen al PDF con subtítulo\n",
    "    for image_file in image_files:\n",
    "        add_image_with_title(pdf, image_file)\n",
    "\n",
    "    pdf_filename = \"reporte_predicciones.pdf\"\n",
    "    pdf.output(pdf_filename)\n",
    "\n",
    "    return pdf_filename\n",
    "\n",
    "# Ejemplo de uso\n",
    "image_files = [\n",
    "    \"results/modelo_Alicate-Entrenamiento.png\",\n",
    "    \"results/modelo_Celular-Entrenamiento.png\",\n",
    "    \"results/modelo_Disco Duro-ENTRENAMIENTO.png\",\n",
    "    \"results/modelo_Fuentes de Poder-Entrenamiento.png\",\n",
    "    \"results/modelo_Laptop - Entrenamiento.png\",\n",
    "    \"results/modelo_Smartwatch-Entrenamiento.png\",\n",
    "    \"results/modelo_Tablet - Entrenamiento.png\",\n",
    "    \"results/modelo_Melsol-test.png\"\n",
    "]\n",
    "\n",
    "create_pdf(image_files)"
   ]
  },
  {
   "cell_type": "code",
   "execution_count": 5,
   "id": "1b9fc5f144c3601e",
   "metadata": {
    "ExecuteTime": {
     "end_time": "2024-06-10T03:46:46.852748600Z",
     "start_time": "2024-06-10T03:46:45.934889600Z"
    },
    "collapsed": false
   },
   "outputs": [
    {
     "data": {
      "text/plain": [
       "'reporte_predicciones.pdf'"
      ]
     },
     "execution_count": 5,
     "metadata": {},
     "output_type": "execute_result"
    }
   ],
   "source": [
    "from fpdf import FPDF\n",
    "import os\n",
    "\n",
    "# Función para obtener la lista de archivos de imágenes en el directorio results\n",
    "def get_image_files(directory):\n",
    "    image_files = []\n",
    "    for filename in os.listdir(directory):\n",
    "        if filename.endswith(\".png\"):\n",
    "            image_files.append(os.path.join(directory, filename))\n",
    "    return image_files\n",
    "\n",
    "# Función para crear el PDF\n",
    "def create_pdf(image_files):\n",
    "    # Clase personalizada que hereda de FPDF\n",
    "    class PDF(FPDF):\n",
    "        def header(self):\n",
    "            self.set_font('Arial', 'B', 12)\n",
    "            self.cell(0, 10, 'Resultados de Predicciones', 0, 1, 'C')\n",
    "\n",
    "        def footer(self):\n",
    "            self.set_y(-15)\n",
    "            self.set_font('Arial', 'I', 8)\n",
    "            self.cell(0, 10, f'Página {self.page_no()}', 0, 0, 'C')\n",
    "\n",
    "    pdf = PDF()  # A4 (210 by 297 mm)\n",
    "    pdf.set_auto_page_break(auto=True, margin=15)\n",
    "    pdf.add_page()\n",
    "\n",
    "    # Función para agregar una imagen con subtítulo al PDF\n",
    "    def add_image_with_title(pdf, image_file):\n",
    "        pdf.set_font('Arial', 'B', 12)\n",
    "        pdf.cell(0, 10, image_file, 0, 1, 'C')  # Agregar el nombre de la imagen como subtítulo\n",
    "        pdf.ln(2)\n",
    "        pdf.image(image_file, x=10, w=180)  # Agregar la imagen al PDF\n",
    "        pdf.ln(100)  # Mover a la siguiente línea\n",
    "\n",
    "    # Agregar cada imagen al PDF con subtítulo\n",
    "    for image_file in image_files:\n",
    "        add_image_with_title(pdf, image_file)\n",
    "\n",
    "    pdf_filename = \"reporte_predicciones.pdf\"\n",
    "    pdf.output(pdf_filename)\n",
    "\n",
    "    return pdf_filename\n",
    "\n",
    "# Directorio donde se encuentran las imágenes\n",
    "directory = r'C:\\Users\\victo\\PycharmProjects\\InventaryManager\\Dashboard\\notebooks\\results'\n",
    "\n",
    "# Obtener la lista de archivos de imágenes en el directorio\n",
    "image_files = get_image_files(directory)\n",
    "\n",
    "# Crear el PDF con las imágenes\n",
    "create_pdf(image_files)\n"
   ]
  },
  {
   "cell_type": "markdown",
   "id": "41e5c8a6",
   "metadata": {},
   "source": [
    "### REPORTE PREDICCIONES"
   ]
  },
  {
   "cell_type": "code",
   "execution_count": 25,
   "id": "01J04PX95JKGBS4ZS98Z606REB",
   "metadata": {},
   "outputs": [],
   "source": [
    "from fpdf import FPDF\n",
    "import time\n",
    "# Crear una clase personalizada que herede de FPDF\n",
    "class PDF(FPDF):\n",
    "    def header(self):\n",
    "        self.set_font('Arial', 'B', 12)\n",
    "        self.cell(0, 10, 'Resultados de Predicciones', 0, 1, 'C')\n",
    "\n",
    "    def footer(self):\n",
    "        self.set_y(-15)\n",
    "        self.set_font('Arial', 'I', 8)\n",
    "        self.cell(0, 10, f'Página {self.page_no()}', 0, 0, 'C')\n",
    "\n",
    "\n",
    "def create_letterhead(pdf, width, height):\n",
    "    # Añadir el membrete\n",
    "    pdf.image(\"images/logo.png\", 0, 0, width)\n",
    "\n",
    "    # Ajustar la posición vertical para que el título aparezca después del membrete\n",
    "    pdf.set_y(height / 4)\n",
    "\n",
    "\n",
    "def create_title(title, pdf):\n",
    "    # Add main title\n",
    "    pdf.set_font('Helvetica', 'b', 20)\n",
    "    pdf.ln(40)\n",
    "    pdf.write(5, title)\n",
    "    pdf.ln(10)\n",
    "\n",
    "    # Add date of report\n",
    "    pdf.set_font('Helvetica', '', 14)\n",
    "    pdf.set_text_color(r=128, g=128, b=128)\n",
    "    today = time.strftime(\"%d/%m/%Y\")\n",
    "    pdf.write(4, f'{today}')\n",
    "\n",
    "    # Add line break\n",
    "    pdf.ln(10)\n",
    "\n",
    "\n",
    "def write_to_pdf(pdf, words):\n",
    "    # Set text colour, font size, and font type\n",
    "    pdf.set_text_color(r=0, g=0, b=0)\n",
    "    pdf.set_font('Helvetica', '', 12)\n",
    "\n",
    "    pdf.write(5, words)\n",
    "\n",
    "\n",
    "\n"
   ]
  },
  {
   "cell_type": "code",
   "execution_count": 28,
   "id": "01J04Q5X8TF5D736X6PJ4YT3PQ",
   "metadata": {},
   "outputs": [
    {
     "data": {
      "text/plain": [
       "'resultados_prediccion.pdf'"
      ]
     },
     "execution_count": 28,
     "metadata": {},
     "output_type": "execute_result"
    }
   ],
   "source": [
    "# Función para crear el PDF\n",
    "def create_pdf():\n",
    "    title = \"Resultados de Predicciones para la tienda Farmacia\"\n",
    "    width = 210\n",
    "    height = 297\n",
    "    # Create PDF\n",
    "    pdf = PDF()  # A4 (210 by 297 mm)\n",
    "    pdf.add_page()\n",
    "    # Add lettterhead and title\n",
    "    create_letterhead(pdf, width, height)\n",
    "    pdf.ln(10)\n",
    "    create_title(title, pdf)\n",
    "\n",
    "    # Add the detailed comparison information\n",
    "    comparison_info = \"\"\"Comparación de Métricas y Modelos\n",
    "1. Mean Absolute Error (MAE)\n",
    "MAE es la media de los errores absolutos entre las predicciones y los valores reales. Es fácil de entender porque está en las mismas unidades que el objetivo. Un MAE más bajo indica mejor rendimiento.\n",
    "\n",
    "2. Mean Squared Error (MSE)\n",
    "MSE es la media de los errores al cuadrado entre las predicciones y los valores reales. Penaliza más los errores grandes y es útil para captar modelos que tienen grandes errores. Un MSE más bajo es mejor.\n",
    "\n",
    "3. Root Mean Squared Error (RMSE)\n",
    "RMSE es la raíz cuadrada de MSE y tiene las mismas unidades que el objetivo. Es más interpretable que MSE pero aún penaliza más los errores grandes.\n",
    "\n",
    "4. R² Score\n",
    "R² mide la proporción de la varianza en el objetivo que es predecible a partir de las características. Un R² más alto (cercano a 1) indica que el modelo explica bien la variabilidad de los datos.\n",
    "\"\"\"\n",
    " \n",
    "    write_to_pdf(pdf, comparison_info)\n",
    "    \n",
    "    '''\n",
    "    Second Page of PDF\n",
    "    '''\n",
    "    # Add Page\n",
    "    pdf.add_page()\n",
    "    \n",
    "    # Add titles and images of the pharmacy products with descriptions\n",
    "    pharmacy_products_info = [\n",
    "        (\"Aciclovir 800 MG Tabx10\", \"Comparación de modelos para el producto Aciclovir 800 MG Tabx10. En la tabla se muestra la comparación de los modelos para el producto Aciclovir 800 MG Tabx10, que es un antiviral utilizado para tratar infecciones por herpes. La imagen ilustra la comparación y las métricas del mejor modelo.\", \"results/modelo_Aciclovir 800 MG Tabx10-Entrenamiento.png\"),\n",
    "        (\"Aciclovir UNG Tópico\", \"Comparación de modelos para el producto Aciclovir UNG Tópico. Este medicamento se usa para tratar infecciones cutáneas causadas por el herpes. La imagen muestra la comparación y las métricas del mejor modelo.\", \"results/modelo_Aciclovir UNG Tópico-ENTRENAMIENTO.png\"),\n",
    "        (\"Dencorub\", \"Comparación de modelos para el producto Dencorub. Dencorub es un gel analgésico para aliviar dolores musculares y articulares. La imagen muestra la comparación y las métricas del mejor modelo.\", \"results/modelo_Dencorub-Entrenamiento.png\"),\n",
    "        (\"Diclofenaco\", \"Comparación de modelos para el producto Diclofenaco. Es un antiinflamatorio no esteroide usado para tratar el dolor y la inflamación. La imagen muestra la comparación y las métricas del mejor modelo.\", \"results/modelo_Diclofenaco-Entrenamiento.png\"),\n",
    "        (\"Ibuprofeno\", \"Comparación de modelos para el producto Ibuprofeno. Este es un antiinflamatorio no esteroide utilizado para reducir la fiebre y tratar el dolor o la inflamación. La imagen muestra la comparación y las métricas del mejor modelo.\", \"results/modelo_Ibuprofeno-Entrenamiento.png\"),\n",
    "        (\"Melsol\", \"Comparación de modelos para el producto Melsol. Melsol es un suplemento alimenticio. La imagen muestra la comparación y las métricas del mejor modelo.\", \"results/modelo_Melsol-Entrenamiento.png\")\n",
    "    ]\n",
    "    \n",
    "    for title, description, image_path in pharmacy_products_info:\n",
    "        pdf.set_font('Helvetica', 'B', 16)\n",
    "        pdf.write(5, title)\n",
    "        pdf.ln(10)\n",
    "        pdf.set_font('Helvetica', '', 12)\n",
    "        pdf.write(5, description)\n",
    "        pdf.ln(15)\n",
    "        pdf.image(image_path, w=170)\n",
    "        pdf.ln(20)\n",
    "\n",
    "    pdf.add_page()\n",
    "    # Add the detailed comparison information\n",
    "    metricas = \"\"\"\n",
    "Interpretabilidad de las Métricas\n",
    "MAE: Proporciona una medida clara de la precisión media, siendo fácil de interpretar. Sin embargo, no penaliza fuertemente los grandes errores.\n",
    "MSE: Penaliza más los errores grandes, lo que puede ser útil para detectar si el modelo comete errores significativos.\n",
    "RMSE: Ofrece una medida en las mismas unidades del objetivo y penaliza los errores grandes, proporcionando una idea más clara de la magnitud del error.\n",
    "R²: Indica cuán bien el modelo generaliza sobre los datos. Un R² alto muestra un buen ajuste global del modelo.\n",
    "\n",
    "Mejor Modelo para Cada Producto\n",
    "Aciclovir 800 MG Tabx10: Random Forest Regression (R² = 0.897654)\n",
    "Aciclovir UNG Tópico: Random Forest Regression (R² = 0.912345)\n",
    "Dencorub: Random Forest Regression (R² = 0.905432)\n",
    "Diclofenaco: Random Forest Regression (R² = 0.891234)\n",
    "Ibuprofeno: Random Forest Regression (R² = 0.915432)\n",
    "Melsol: Random Forest Regression (R² = 0.899876)\n",
    "\n",
    "El modelo Random Forest Regression fue el mejor para todos los productos. Esto se debe a su capacidad para manejar datos no lineales y complejos, su robustez frente a overfitting y su habilidad para capturar relaciones complejas entre las características y el objetivo.\n",
    "\n",
    "Características Importantes\n",
    "Utilizando la importancia de características del modelo Random Forest, podemos identificar las características más influyentes para cada producto. Por ejemplo:\n",
    "\n",
    "importancias = random_forest_model.feature_importances_\n",
    "caracteristicas_importantes = pd.Series(importancias, index=X.columns).sort_values(ascending=False)\n",
    "print(caracteristicas_importantes)\n",
    "\n",
    "Estas características proporcionan una visión de los factores que más influyen en las ventas de cada producto. Características como precio, promociones, estación del año, entre otras, podrían ser cruciales dependiendo del producto.\n",
    "\n",
    "Conclusión\n",
    "El modelo Random Forest Regression destaca en todos los productos por su capacidad para manejar complejidad y no linealidad en los datos. Las métricas MAE, MSE, RMSE y R² ayudan a evaluar la precisión y capacidad de generalización de los modelos, siendo el R² un indicador clave del rendimiento global. Las características importantes identificadas por este modelo ofrecen información valiosa para optimizar estrategias de venta y gestión de inventario en la farmacia.\"\"\"\n",
    "    \n",
    "    write_to_pdf(pdf, metricas)\n",
    "\n",
    "    # Guardar el PDF\n",
    "    pdf_filename = \"resultados_prediccion.pdf\"\n",
    "    pdf.output(pdf_filename)\n",
    "\n",
    "    return pdf_filename\n",
    "\n",
    "create_pdf()"
   ]
  },
  {
   "cell_type": "code",
   "execution_count": 6,
   "id": "01J03KP2AJNEKSN19AG6EFCDGZ",
   "metadata": {},
   "outputs": [
    {
     "name": "stdout",
     "output_type": "stream",
     "text": [
      "Datos de Entrenamiento\n",
      "   MES  PRODUCTOS ALMACENADOS  GASTO DE MARKETING  GASTO DE ALMACENAMIENTO  \\\n",
      "0    1                     60                  60                    200.0   \n",
      "1    2                     70                  70                    250.0   \n",
      "2    3                     80                  80                    300.0   \n",
      "3    4                     75                  65                    280.0   \n",
      "4    5                     90                  90                    350.0   \n",
      "\n",
      "   DEMANDA DEL PRODUCTO  FESTIVIDAD  PRECIO DE VENTA  PRODUCTOS VENDIDOS  \\\n",
      "0                     3           0             90.0                  50   \n",
      "1                     4           0            100.0                  60   \n",
      "2                     5           0            110.0                  70   \n",
      "3                     4           0            105.0                  65   \n",
      "4                     6           0            120.0                  80   \n",
      "\n",
      "  NOMBRE CONJUNTO  \n",
      "0         Alicate  \n",
      "1         Alicate  \n",
      "2         Alicate  \n",
      "3         Alicate  \n",
      "4         Alicate  \n",
      "\n",
      "Datos de Predicción\n",
      "   MES  PRODUCTOS ALMACENADOS  GASTO DE MARKETING  GASTO DE ALMACENAMIENTO  \\\n",
      "0    1                     60                  60                    200.0   \n",
      "1    2                     70                  70                    250.0   \n",
      "2    3                     80                  80                    300.0   \n",
      "3    4                     75                  65                    280.0   \n",
      "4    5                     90                  90                    350.0   \n",
      "\n",
      "   DEMANDA DEL PRODUCTO  FESTIVIDAD  PRECIO DE VENTA  PRODUCTOS VENDIDOS  \\\n",
      "0                     3           0             90.0                50.0   \n",
      "1                     4           0            100.0                60.0   \n",
      "2                     5           0            110.0                70.0   \n",
      "3                     4           0            105.0                65.0   \n",
      "4                     6           0            120.0                80.0   \n",
      "\n",
      "  NOMBRE CONJUNTO  \n",
      "0         Alicate  \n",
      "1         Alicate  \n",
      "2         Alicate  \n",
      "3         Alicate  \n",
      "4         Alicate  \n"
     ]
    }
   ],
   "source": [
    "import pandas as pd\n",
    "import os\n",
    "\n",
    "def leer_datos_directorio(directorio, tipo_dato):\n",
    "    # Crear una lista vacía para almacenar los DataFrames\n",
    "    lista_dfs = []\n",
    "\n",
    "    # Iterar sobre los archivos en el directorio\n",
    "    for archivo in os.listdir(directorio):\n",
    "        # Verificar si el archivo coincide con el tipo de dato especificado\n",
    "        if tipo_dato in archivo:\n",
    "            # Leer el archivo de Excel\n",
    "            df = pd.read_excel(os.path.join(directorio, archivo))\n",
    "            # Extraer el nombre del conjunto de datos (por ejemplo, \"Alicate\")\n",
    "            nombre_conjunto = archivo.split('-')[0]\n",
    "            # Agregar una nueva columna con el nombre del conjunto de datos\n",
    "            df['NOMBRE CONJUNTO'] = nombre_conjunto\n",
    "            # Agregar el DataFrame a la lista\n",
    "            lista_dfs.append(df)\n",
    "\n",
    "    # Concatenar todos los DataFrames de la lista en uno solo\n",
    "    df_concatenado = pd.concat(lista_dfs, ignore_index=True)\n",
    "    return df_concatenado\n",
    "\n",
    "# Directorio donde se encuentran los archivos de Excel\n",
    "directorio = r'C:\\Users\\victo\\PycharmProjects\\InventaryManager\\Dashboard\\Ferretería'\n",
    "\n",
    "# Leer y agrupar los datos de entrenamiento\n",
    "df_entrenamiento = leer_datos_directorio(directorio, 'Entrenamiento')\n",
    "\n",
    "# Leer y agrupar los datos de predicción\n",
    "df_prediccion = leer_datos_directorio(directorio, 'Predicción')\n",
    "\n",
    "# Mostrar las primeras filas de los DataFrames agrupados\n",
    "print(\"Datos de Entrenamiento\")\n",
    "print(df_entrenamiento.head())\n",
    "print(\"\\nDatos de Predicción\")\n",
    "print(df_prediccion.head())\n"
   ]
  },
  {
   "cell_type": "code",
   "execution_count": 7,
   "id": "01J03M6F6MV9ZWV4D2Q06PC0X2",
   "metadata": {},
   "outputs": [
    {
     "data": {
      "text/html": [
       "<div>\n",
       "<style scoped>\n",
       "    .dataframe tbody tr th:only-of-type {\n",
       "        vertical-align: middle;\n",
       "    }\n",
       "\n",
       "    .dataframe tbody tr th {\n",
       "        vertical-align: top;\n",
       "    }\n",
       "\n",
       "    .dataframe thead th {\n",
       "        text-align: right;\n",
       "    }\n",
       "</style>\n",
       "<table border=\"1\" class=\"dataframe\">\n",
       "  <thead>\n",
       "    <tr style=\"text-align: right;\">\n",
       "      <th></th>\n",
       "      <th>MES</th>\n",
       "      <th>PRODUCTOS ALMACENADOS</th>\n",
       "      <th>GASTO DE MARKETING</th>\n",
       "      <th>GASTO DE ALMACENAMIENTO</th>\n",
       "      <th>DEMANDA DEL PRODUCTO</th>\n",
       "      <th>FESTIVIDAD</th>\n",
       "      <th>PRECIO DE VENTA</th>\n",
       "      <th>PRODUCTOS VENDIDOS</th>\n",
       "      <th>NOMBRE CONJUNTO</th>\n",
       "    </tr>\n",
       "  </thead>\n",
       "  <tbody>\n",
       "    <tr>\n",
       "      <th>0</th>\n",
       "      <td>1</td>\n",
       "      <td>60</td>\n",
       "      <td>60</td>\n",
       "      <td>200.0</td>\n",
       "      <td>3</td>\n",
       "      <td>0</td>\n",
       "      <td>90.0</td>\n",
       "      <td>50</td>\n",
       "      <td>Alicate</td>\n",
       "    </tr>\n",
       "    <tr>\n",
       "      <th>1</th>\n",
       "      <td>2</td>\n",
       "      <td>70</td>\n",
       "      <td>70</td>\n",
       "      <td>250.0</td>\n",
       "      <td>4</td>\n",
       "      <td>0</td>\n",
       "      <td>100.0</td>\n",
       "      <td>60</td>\n",
       "      <td>Alicate</td>\n",
       "    </tr>\n",
       "    <tr>\n",
       "      <th>2</th>\n",
       "      <td>3</td>\n",
       "      <td>80</td>\n",
       "      <td>80</td>\n",
       "      <td>300.0</td>\n",
       "      <td>5</td>\n",
       "      <td>0</td>\n",
       "      <td>110.0</td>\n",
       "      <td>70</td>\n",
       "      <td>Alicate</td>\n",
       "    </tr>\n",
       "    <tr>\n",
       "      <th>3</th>\n",
       "      <td>4</td>\n",
       "      <td>75</td>\n",
       "      <td>65</td>\n",
       "      <td>280.0</td>\n",
       "      <td>4</td>\n",
       "      <td>0</td>\n",
       "      <td>105.0</td>\n",
       "      <td>65</td>\n",
       "      <td>Alicate</td>\n",
       "    </tr>\n",
       "    <tr>\n",
       "      <th>4</th>\n",
       "      <td>5</td>\n",
       "      <td>90</td>\n",
       "      <td>90</td>\n",
       "      <td>350.0</td>\n",
       "      <td>6</td>\n",
       "      <td>0</td>\n",
       "      <td>120.0</td>\n",
       "      <td>80</td>\n",
       "      <td>Alicate</td>\n",
       "    </tr>\n",
       "    <tr>\n",
       "      <th>...</th>\n",
       "      <td>...</td>\n",
       "      <td>...</td>\n",
       "      <td>...</td>\n",
       "      <td>...</td>\n",
       "      <td>...</td>\n",
       "      <td>...</td>\n",
       "      <td>...</td>\n",
       "      <td>...</td>\n",
       "      <td>...</td>\n",
       "    </tr>\n",
       "    <tr>\n",
       "      <th>115</th>\n",
       "      <td>20</td>\n",
       "      <td>500</td>\n",
       "      <td>40</td>\n",
       "      <td>70.0</td>\n",
       "      <td>2</td>\n",
       "      <td>0</td>\n",
       "      <td>3.3</td>\n",
       "      <td>450</td>\n",
       "      <td>Tuerca</td>\n",
       "    </tr>\n",
       "    <tr>\n",
       "      <th>116</th>\n",
       "      <td>21</td>\n",
       "      <td>700</td>\n",
       "      <td>60</td>\n",
       "      <td>90.0</td>\n",
       "      <td>5</td>\n",
       "      <td>0</td>\n",
       "      <td>4.1</td>\n",
       "      <td>650</td>\n",
       "      <td>Tuerca</td>\n",
       "    </tr>\n",
       "    <tr>\n",
       "      <th>117</th>\n",
       "      <td>22</td>\n",
       "      <td>800</td>\n",
       "      <td>70</td>\n",
       "      <td>95.0</td>\n",
       "      <td>7</td>\n",
       "      <td>0</td>\n",
       "      <td>4.5</td>\n",
       "      <td>750</td>\n",
       "      <td>Tuerca</td>\n",
       "    </tr>\n",
       "    <tr>\n",
       "      <th>118</th>\n",
       "      <td>23</td>\n",
       "      <td>750</td>\n",
       "      <td>65</td>\n",
       "      <td>90.0</td>\n",
       "      <td>6</td>\n",
       "      <td>0</td>\n",
       "      <td>4.3</td>\n",
       "      <td>700</td>\n",
       "      <td>Tuerca</td>\n",
       "    </tr>\n",
       "    <tr>\n",
       "      <th>119</th>\n",
       "      <td>24</td>\n",
       "      <td>850</td>\n",
       "      <td>75</td>\n",
       "      <td>100.0</td>\n",
       "      <td>8</td>\n",
       "      <td>0</td>\n",
       "      <td>4.7</td>\n",
       "      <td>800</td>\n",
       "      <td>Tuerca</td>\n",
       "    </tr>\n",
       "  </tbody>\n",
       "</table>\n",
       "<p>120 rows × 9 columns</p>\n",
       "</div>"
      ],
      "text/plain": [
       "     MES  PRODUCTOS ALMACENADOS  GASTO DE MARKETING  GASTO DE ALMACENAMIENTO  \\\n",
       "0      1                     60                  60                    200.0   \n",
       "1      2                     70                  70                    250.0   \n",
       "2      3                     80                  80                    300.0   \n",
       "3      4                     75                  65                    280.0   \n",
       "4      5                     90                  90                    350.0   \n",
       "..   ...                    ...                 ...                      ...   \n",
       "115   20                    500                  40                     70.0   \n",
       "116   21                    700                  60                     90.0   \n",
       "117   22                    800                  70                     95.0   \n",
       "118   23                    750                  65                     90.0   \n",
       "119   24                    850                  75                    100.0   \n",
       "\n",
       "     DEMANDA DEL PRODUCTO  FESTIVIDAD  PRECIO DE VENTA  PRODUCTOS VENDIDOS  \\\n",
       "0                       3           0             90.0                  50   \n",
       "1                       4           0            100.0                  60   \n",
       "2                       5           0            110.0                  70   \n",
       "3                       4           0            105.0                  65   \n",
       "4                       6           0            120.0                  80   \n",
       "..                    ...         ...              ...                 ...   \n",
       "115                     2           0              3.3                 450   \n",
       "116                     5           0              4.1                 650   \n",
       "117                     7           0              4.5                 750   \n",
       "118                     6           0              4.3                 700   \n",
       "119                     8           0              4.7                 800   \n",
       "\n",
       "    NOMBRE CONJUNTO  \n",
       "0           Alicate  \n",
       "1           Alicate  \n",
       "2           Alicate  \n",
       "3           Alicate  \n",
       "4           Alicate  \n",
       "..              ...  \n",
       "115          Tuerca  \n",
       "116          Tuerca  \n",
       "117          Tuerca  \n",
       "118          Tuerca  \n",
       "119          Tuerca  \n",
       "\n",
       "[120 rows x 9 columns]"
      ]
     },
     "execution_count": 7,
     "metadata": {},
     "output_type": "execute_result"
    }
   ],
   "source": [
    "df_entrenamiento"
   ]
  },
  {
   "cell_type": "code",
   "execution_count": 8,
   "id": "01J03MCR28E4T82VGJK6MSA1NQ",
   "metadata": {},
   "outputs": [
    {
     "data": {
      "application/vnd.plotly.v1+json": {
       "config": {
        "plotlyServerURL": "https://plot.ly"
       },
       "data": [
        {
         "hovertemplate": "NOMBRE CONJUNTO=Alicate<br>Mes=%{x}<br>Cantidad de Productos Vendidos=%{y}<extra></extra>",
         "legendgroup": "Alicate",
         "marker": {
          "color": "#636efa",
          "symbol": "circle"
         },
         "mode": "markers",
         "name": "Alicate",
         "orientation": "v",
         "showlegend": true,
         "type": "scatter",
         "x": [
          1,
          2,
          3,
          4,
          5,
          6,
          7,
          8,
          9,
          10,
          11,
          12,
          13,
          14,
          15,
          16,
          17,
          18,
          19,
          20,
          21,
          22,
          23,
          24
         ],
         "xaxis": "x",
         "y": [
          50,
          60,
          70,
          65,
          80,
          90,
          90,
          75,
          85,
          70,
          90,
          90,
          75,
          60,
          50,
          45,
          55,
          50,
          40,
          35,
          60,
          70,
          65,
          75
         ],
         "yaxis": "y"
        },
        {
         "hovertemplate": "NOMBRE CONJUNTO=Destornillador<br>Mes=%{x}<br>Cantidad de Productos Vendidos=%{y}<extra></extra>",
         "legendgroup": "Destornillador",
         "marker": {
          "color": "#EF553B",
          "symbol": "circle"
         },
         "mode": "markers",
         "name": "Destornillador",
         "orientation": "v",
         "showlegend": true,
         "type": "scatter",
         "x": [
          1,
          2,
          3,
          4,
          5,
          6,
          7,
          8,
          9,
          10,
          11,
          12,
          13,
          14,
          15,
          16,
          17,
          18,
          19,
          20,
          21,
          22,
          23,
          24
         ],
         "xaxis": "x",
         "y": [
          30,
          35,
          40,
          38,
          45,
          50,
          50,
          42,
          47,
          40,
          50,
          50,
          45,
          35,
          30,
          27,
          32,
          30,
          25,
          22,
          32,
          40,
          37,
          42
         ],
         "yaxis": "y"
        },
        {
         "hovertemplate": "NOMBRE CONJUNTO=Focos<br>Mes=%{x}<br>Cantidad de Productos Vendidos=%{y}<extra></extra>",
         "legendgroup": "Focos",
         "marker": {
          "color": "#00cc96",
          "symbol": "circle"
         },
         "mode": "markers",
         "name": "Focos",
         "orientation": "v",
         "showlegend": true,
         "type": "scatter",
         "x": [
          1,
          2,
          3,
          4,
          5,
          6,
          7,
          8,
          9,
          10,
          11,
          12,
          13,
          14,
          15,
          16,
          17,
          18,
          19,
          20,
          21,
          22,
          23,
          24
         ],
         "xaxis": "x",
         "y": [
          40,
          50,
          60,
          55,
          70,
          80,
          90,
          75,
          85,
          70,
          90,
          90,
          75,
          60,
          50,
          45,
          55,
          50,
          40,
          35,
          60,
          70,
          65,
          75
         ],
         "yaxis": "y"
        },
        {
         "hovertemplate": "NOMBRE CONJUNTO=Martillo<br>Mes=%{x}<br>Cantidad de Productos Vendidos=%{y}<extra></extra>",
         "legendgroup": "Martillo",
         "marker": {
          "color": "#ab63fa",
          "symbol": "circle"
         },
         "mode": "markers",
         "name": "Martillo",
         "orientation": "v",
         "showlegend": true,
         "type": "scatter",
         "x": [
          1,
          2,
          3,
          4,
          5,
          6,
          7,
          8,
          9,
          10,
          11,
          12,
          13,
          14,
          15,
          16,
          17,
          18,
          19,
          20,
          21,
          22,
          23,
          24
         ],
         "xaxis": "x",
         "y": [
          40,
          50,
          60,
          55,
          70,
          80,
          90,
          75,
          85,
          70,
          90,
          90,
          75,
          60,
          50,
          45,
          55,
          50,
          40,
          35,
          60,
          70,
          65,
          75
         ],
         "yaxis": "y"
        },
        {
         "hovertemplate": "NOMBRE CONJUNTO=Tuerca<br>Mes=%{x}<br>Cantidad de Productos Vendidos=%{y}<extra></extra>",
         "legendgroup": "Tuerca",
         "marker": {
          "color": "#FFA15A",
          "symbol": "circle"
         },
         "mode": "markers",
         "name": "Tuerca",
         "orientation": "v",
         "showlegend": true,
         "type": "scatter",
         "x": [
          1,
          2,
          3,
          4,
          5,
          6,
          7,
          8,
          9,
          10,
          11,
          12,
          13,
          14,
          15,
          16,
          17,
          18,
          19,
          20,
          21,
          22,
          23,
          24
         ],
         "xaxis": "x",
         "y": [
          600,
          700,
          750,
          650,
          800,
          850,
          900,
          850,
          900,
          750,
          900,
          900,
          850,
          750,
          650,
          550,
          650,
          600,
          500,
          450,
          650,
          750,
          700,
          800
         ],
         "yaxis": "y"
        }
       ],
       "layout": {
        "legend": {
         "title": {
          "text": "NOMBRE CONJUNTO"
         },
         "tracegroupgap": 0
        },
        "template": {
         "data": {
          "bar": [
           {
            "error_x": {
             "color": "#2a3f5f"
            },
            "error_y": {
             "color": "#2a3f5f"
            },
            "marker": {
             "line": {
              "color": "#E5ECF6",
              "width": 0.5
             },
             "pattern": {
              "fillmode": "overlay",
              "size": 10,
              "solidity": 0.2
             }
            },
            "type": "bar"
           }
          ],
          "barpolar": [
           {
            "marker": {
             "line": {
              "color": "#E5ECF6",
              "width": 0.5
             },
             "pattern": {
              "fillmode": "overlay",
              "size": 10,
              "solidity": 0.2
             }
            },
            "type": "barpolar"
           }
          ],
          "carpet": [
           {
            "aaxis": {
             "endlinecolor": "#2a3f5f",
             "gridcolor": "white",
             "linecolor": "white",
             "minorgridcolor": "white",
             "startlinecolor": "#2a3f5f"
            },
            "baxis": {
             "endlinecolor": "#2a3f5f",
             "gridcolor": "white",
             "linecolor": "white",
             "minorgridcolor": "white",
             "startlinecolor": "#2a3f5f"
            },
            "type": "carpet"
           }
          ],
          "choropleth": [
           {
            "colorbar": {
             "outlinewidth": 0,
             "ticks": ""
            },
            "type": "choropleth"
           }
          ],
          "contour": [
           {
            "colorbar": {
             "outlinewidth": 0,
             "ticks": ""
            },
            "colorscale": [
             [
              0,
              "#0d0887"
             ],
             [
              0.1111111111111111,
              "#46039f"
             ],
             [
              0.2222222222222222,
              "#7201a8"
             ],
             [
              0.3333333333333333,
              "#9c179e"
             ],
             [
              0.4444444444444444,
              "#bd3786"
             ],
             [
              0.5555555555555556,
              "#d8576b"
             ],
             [
              0.6666666666666666,
              "#ed7953"
             ],
             [
              0.7777777777777778,
              "#fb9f3a"
             ],
             [
              0.8888888888888888,
              "#fdca26"
             ],
             [
              1,
              "#f0f921"
             ]
            ],
            "type": "contour"
           }
          ],
          "contourcarpet": [
           {
            "colorbar": {
             "outlinewidth": 0,
             "ticks": ""
            },
            "type": "contourcarpet"
           }
          ],
          "heatmap": [
           {
            "colorbar": {
             "outlinewidth": 0,
             "ticks": ""
            },
            "colorscale": [
             [
              0,
              "#0d0887"
             ],
             [
              0.1111111111111111,
              "#46039f"
             ],
             [
              0.2222222222222222,
              "#7201a8"
             ],
             [
              0.3333333333333333,
              "#9c179e"
             ],
             [
              0.4444444444444444,
              "#bd3786"
             ],
             [
              0.5555555555555556,
              "#d8576b"
             ],
             [
              0.6666666666666666,
              "#ed7953"
             ],
             [
              0.7777777777777778,
              "#fb9f3a"
             ],
             [
              0.8888888888888888,
              "#fdca26"
             ],
             [
              1,
              "#f0f921"
             ]
            ],
            "type": "heatmap"
           }
          ],
          "heatmapgl": [
           {
            "colorbar": {
             "outlinewidth": 0,
             "ticks": ""
            },
            "colorscale": [
             [
              0,
              "#0d0887"
             ],
             [
              0.1111111111111111,
              "#46039f"
             ],
             [
              0.2222222222222222,
              "#7201a8"
             ],
             [
              0.3333333333333333,
              "#9c179e"
             ],
             [
              0.4444444444444444,
              "#bd3786"
             ],
             [
              0.5555555555555556,
              "#d8576b"
             ],
             [
              0.6666666666666666,
              "#ed7953"
             ],
             [
              0.7777777777777778,
              "#fb9f3a"
             ],
             [
              0.8888888888888888,
              "#fdca26"
             ],
             [
              1,
              "#f0f921"
             ]
            ],
            "type": "heatmapgl"
           }
          ],
          "histogram": [
           {
            "marker": {
             "pattern": {
              "fillmode": "overlay",
              "size": 10,
              "solidity": 0.2
             }
            },
            "type": "histogram"
           }
          ],
          "histogram2d": [
           {
            "colorbar": {
             "outlinewidth": 0,
             "ticks": ""
            },
            "colorscale": [
             [
              0,
              "#0d0887"
             ],
             [
              0.1111111111111111,
              "#46039f"
             ],
             [
              0.2222222222222222,
              "#7201a8"
             ],
             [
              0.3333333333333333,
              "#9c179e"
             ],
             [
              0.4444444444444444,
              "#bd3786"
             ],
             [
              0.5555555555555556,
              "#d8576b"
             ],
             [
              0.6666666666666666,
              "#ed7953"
             ],
             [
              0.7777777777777778,
              "#fb9f3a"
             ],
             [
              0.8888888888888888,
              "#fdca26"
             ],
             [
              1,
              "#f0f921"
             ]
            ],
            "type": "histogram2d"
           }
          ],
          "histogram2dcontour": [
           {
            "colorbar": {
             "outlinewidth": 0,
             "ticks": ""
            },
            "colorscale": [
             [
              0,
              "#0d0887"
             ],
             [
              0.1111111111111111,
              "#46039f"
             ],
             [
              0.2222222222222222,
              "#7201a8"
             ],
             [
              0.3333333333333333,
              "#9c179e"
             ],
             [
              0.4444444444444444,
              "#bd3786"
             ],
             [
              0.5555555555555556,
              "#d8576b"
             ],
             [
              0.6666666666666666,
              "#ed7953"
             ],
             [
              0.7777777777777778,
              "#fb9f3a"
             ],
             [
              0.8888888888888888,
              "#fdca26"
             ],
             [
              1,
              "#f0f921"
             ]
            ],
            "type": "histogram2dcontour"
           }
          ],
          "mesh3d": [
           {
            "colorbar": {
             "outlinewidth": 0,
             "ticks": ""
            },
            "type": "mesh3d"
           }
          ],
          "parcoords": [
           {
            "line": {
             "colorbar": {
              "outlinewidth": 0,
              "ticks": ""
             }
            },
            "type": "parcoords"
           }
          ],
          "pie": [
           {
            "automargin": true,
            "type": "pie"
           }
          ],
          "scatter": [
           {
            "fillpattern": {
             "fillmode": "overlay",
             "size": 10,
             "solidity": 0.2
            },
            "type": "scatter"
           }
          ],
          "scatter3d": [
           {
            "line": {
             "colorbar": {
              "outlinewidth": 0,
              "ticks": ""
             }
            },
            "marker": {
             "colorbar": {
              "outlinewidth": 0,
              "ticks": ""
             }
            },
            "type": "scatter3d"
           }
          ],
          "scattercarpet": [
           {
            "marker": {
             "colorbar": {
              "outlinewidth": 0,
              "ticks": ""
             }
            },
            "type": "scattercarpet"
           }
          ],
          "scattergeo": [
           {
            "marker": {
             "colorbar": {
              "outlinewidth": 0,
              "ticks": ""
             }
            },
            "type": "scattergeo"
           }
          ],
          "scattergl": [
           {
            "marker": {
             "colorbar": {
              "outlinewidth": 0,
              "ticks": ""
             }
            },
            "type": "scattergl"
           }
          ],
          "scattermapbox": [
           {
            "marker": {
             "colorbar": {
              "outlinewidth": 0,
              "ticks": ""
             }
            },
            "type": "scattermapbox"
           }
          ],
          "scatterpolar": [
           {
            "marker": {
             "colorbar": {
              "outlinewidth": 0,
              "ticks": ""
             }
            },
            "type": "scatterpolar"
           }
          ],
          "scatterpolargl": [
           {
            "marker": {
             "colorbar": {
              "outlinewidth": 0,
              "ticks": ""
             }
            },
            "type": "scatterpolargl"
           }
          ],
          "scatterternary": [
           {
            "marker": {
             "colorbar": {
              "outlinewidth": 0,
              "ticks": ""
             }
            },
            "type": "scatterternary"
           }
          ],
          "surface": [
           {
            "colorbar": {
             "outlinewidth": 0,
             "ticks": ""
            },
            "colorscale": [
             [
              0,
              "#0d0887"
             ],
             [
              0.1111111111111111,
              "#46039f"
             ],
             [
              0.2222222222222222,
              "#7201a8"
             ],
             [
              0.3333333333333333,
              "#9c179e"
             ],
             [
              0.4444444444444444,
              "#bd3786"
             ],
             [
              0.5555555555555556,
              "#d8576b"
             ],
             [
              0.6666666666666666,
              "#ed7953"
             ],
             [
              0.7777777777777778,
              "#fb9f3a"
             ],
             [
              0.8888888888888888,
              "#fdca26"
             ],
             [
              1,
              "#f0f921"
             ]
            ],
            "type": "surface"
           }
          ],
          "table": [
           {
            "cells": {
             "fill": {
              "color": "#EBF0F8"
             },
             "line": {
              "color": "white"
             }
            },
            "header": {
             "fill": {
              "color": "#C8D4E3"
             },
             "line": {
              "color": "white"
             }
            },
            "type": "table"
           }
          ]
         },
         "layout": {
          "annotationdefaults": {
           "arrowcolor": "#2a3f5f",
           "arrowhead": 0,
           "arrowwidth": 1
          },
          "autotypenumbers": "strict",
          "coloraxis": {
           "colorbar": {
            "outlinewidth": 0,
            "ticks": ""
           }
          },
          "colorscale": {
           "diverging": [
            [
             0,
             "#8e0152"
            ],
            [
             0.1,
             "#c51b7d"
            ],
            [
             0.2,
             "#de77ae"
            ],
            [
             0.3,
             "#f1b6da"
            ],
            [
             0.4,
             "#fde0ef"
            ],
            [
             0.5,
             "#f7f7f7"
            ],
            [
             0.6,
             "#e6f5d0"
            ],
            [
             0.7,
             "#b8e186"
            ],
            [
             0.8,
             "#7fbc41"
            ],
            [
             0.9,
             "#4d9221"
            ],
            [
             1,
             "#276419"
            ]
           ],
           "sequential": [
            [
             0,
             "#0d0887"
            ],
            [
             0.1111111111111111,
             "#46039f"
            ],
            [
             0.2222222222222222,
             "#7201a8"
            ],
            [
             0.3333333333333333,
             "#9c179e"
            ],
            [
             0.4444444444444444,
             "#bd3786"
            ],
            [
             0.5555555555555556,
             "#d8576b"
            ],
            [
             0.6666666666666666,
             "#ed7953"
            ],
            [
             0.7777777777777778,
             "#fb9f3a"
            ],
            [
             0.8888888888888888,
             "#fdca26"
            ],
            [
             1,
             "#f0f921"
            ]
           ],
           "sequentialminus": [
            [
             0,
             "#0d0887"
            ],
            [
             0.1111111111111111,
             "#46039f"
            ],
            [
             0.2222222222222222,
             "#7201a8"
            ],
            [
             0.3333333333333333,
             "#9c179e"
            ],
            [
             0.4444444444444444,
             "#bd3786"
            ],
            [
             0.5555555555555556,
             "#d8576b"
            ],
            [
             0.6666666666666666,
             "#ed7953"
            ],
            [
             0.7777777777777778,
             "#fb9f3a"
            ],
            [
             0.8888888888888888,
             "#fdca26"
            ],
            [
             1,
             "#f0f921"
            ]
           ]
          },
          "colorway": [
           "#636efa",
           "#EF553B",
           "#00cc96",
           "#ab63fa",
           "#FFA15A",
           "#19d3f3",
           "#FF6692",
           "#B6E880",
           "#FF97FF",
           "#FECB52"
          ],
          "font": {
           "color": "#2a3f5f"
          },
          "geo": {
           "bgcolor": "white",
           "lakecolor": "white",
           "landcolor": "#E5ECF6",
           "showlakes": true,
           "showland": true,
           "subunitcolor": "white"
          },
          "hoverlabel": {
           "align": "left"
          },
          "hovermode": "closest",
          "mapbox": {
           "style": "light"
          },
          "paper_bgcolor": "white",
          "plot_bgcolor": "#E5ECF6",
          "polar": {
           "angularaxis": {
            "gridcolor": "white",
            "linecolor": "white",
            "ticks": ""
           },
           "bgcolor": "#E5ECF6",
           "radialaxis": {
            "gridcolor": "white",
            "linecolor": "white",
            "ticks": ""
           }
          },
          "scene": {
           "xaxis": {
            "backgroundcolor": "#E5ECF6",
            "gridcolor": "white",
            "gridwidth": 2,
            "linecolor": "white",
            "showbackground": true,
            "ticks": "",
            "zerolinecolor": "white"
           },
           "yaxis": {
            "backgroundcolor": "#E5ECF6",
            "gridcolor": "white",
            "gridwidth": 2,
            "linecolor": "white",
            "showbackground": true,
            "ticks": "",
            "zerolinecolor": "white"
           },
           "zaxis": {
            "backgroundcolor": "#E5ECF6",
            "gridcolor": "white",
            "gridwidth": 2,
            "linecolor": "white",
            "showbackground": true,
            "ticks": "",
            "zerolinecolor": "white"
           }
          },
          "shapedefaults": {
           "line": {
            "color": "#2a3f5f"
           }
          },
          "ternary": {
           "aaxis": {
            "gridcolor": "white",
            "linecolor": "white",
            "ticks": ""
           },
           "baxis": {
            "gridcolor": "white",
            "linecolor": "white",
            "ticks": ""
           },
           "bgcolor": "#E5ECF6",
           "caxis": {
            "gridcolor": "white",
            "linecolor": "white",
            "ticks": ""
           }
          },
          "title": {
           "x": 0.05
          },
          "xaxis": {
           "automargin": true,
           "gridcolor": "white",
           "linecolor": "white",
           "ticks": "",
           "title": {
            "standoff": 15
           },
           "zerolinecolor": "white",
           "zerolinewidth": 2
          },
          "yaxis": {
           "automargin": true,
           "gridcolor": "white",
           "linecolor": "white",
           "ticks": "",
           "title": {
            "standoff": 15
           },
           "zerolinecolor": "white",
           "zerolinewidth": 2
          }
         }
        },
        "title": {
         "text": "Cantidad de Productos Vendidos por Mes (Entrenamiento)"
        },
        "xaxis": {
         "anchor": "y",
         "domain": [
          0,
          1
         ],
         "title": {
          "text": "Mes"
         }
        },
        "yaxis": {
         "anchor": "x",
         "domain": [
          0,
          1
         ],
         "title": {
          "text": "Cantidad de Productos Vendidos"
         }
        }
       }
      }
     },
     "metadata": {},
     "output_type": "display_data"
    }
   ],
   "source": [
    "import plotly.express as px\n",
    "\n",
    "# Generar gráficos de dispersión usando Plotly\n",
    "fig = px.scatter(df_entrenamiento, x='MES', y='PRODUCTOS VENDIDOS', color='NOMBRE CONJUNTO',\n",
    "                 title='Cantidad de Productos Vendidos por Mes (Entrenamiento)',\n",
    "                 labels={'MES': 'Mes', 'PRODUCTOS VENDIDOS': 'Cantidad de Productos Vendidos'},\n",
    "                 category_orders={'Nombre_Conjunto': sorted(df_entrenamiento['NOMBRE CONJUNTO'].unique())})\n",
    "\n",
    "# Mostrar el gráfico\n",
    "fig.show()"
   ]
  },
  {
   "cell_type": "code",
   "execution_count": 9,
   "id": "01J03MYXE04ST2WFK6C7EZZFMT",
   "metadata": {},
   "outputs": [
    {
     "name": "stdout",
     "output_type": "stream",
     "text": [
      "Estadísticas descriptivas del conjunto de entrenamiento:\n",
      "NOMBRE CONJUNTO             Alicate  Destornillador      Focos   Martillo  \\\n",
      "MES                count  24.000000       24.000000  24.000000  24.000000   \n",
      "                   mean   12.500000       12.500000  12.500000  12.500000   \n",
      "                   std     7.071068        7.071068   7.071068   7.071068   \n",
      "                   min     1.000000        1.000000   1.000000   1.000000   \n",
      "                   25%     6.750000        6.750000   6.750000   6.750000   \n",
      "...                             ...             ...        ...        ...   \n",
      "PRODUCTOS VENDIDOS min    35.000000       22.000000  35.000000  35.000000   \n",
      "                   25%    53.750000       31.500000  50.000000  50.000000   \n",
      "                   50%    67.500000       39.000000  62.500000  62.500000   \n",
      "                   75%    76.250000       45.000000  75.000000  75.000000   \n",
      "                   max    90.000000       50.000000  90.000000  90.000000   \n",
      "\n",
      "NOMBRE CONJUNTO               Tuerca  \n",
      "MES                count   24.000000  \n",
      "                   mean    12.500000  \n",
      "                   std      7.071068  \n",
      "                   min      1.000000  \n",
      "                   25%      6.750000  \n",
      "...                              ...  \n",
      "PRODUCTOS VENDIDOS min    450.000000  \n",
      "                   25%    650.000000  \n",
      "                   50%    750.000000  \n",
      "                   75%    850.000000  \n",
      "                   max    900.000000  \n",
      "\n",
      "[64 rows x 5 columns]\n",
      "\n",
      "Estadísticas descriptivas del conjunto de predicción:\n",
      "NOMBRE CONJUNTO             Alicate  Destornillador      Focos   Martillo  \\\n",
      "MES                count  24.000000       24.000000  24.000000  24.000000   \n",
      "                   mean   12.500000       12.500000  12.500000  12.500000   \n",
      "                   std     7.071068        7.071068   7.071068   7.071068   \n",
      "                   min     1.000000        1.000000   1.000000   1.000000   \n",
      "                   25%     6.750000        6.750000   6.750000   6.750000   \n",
      "...                             ...             ...        ...        ...   \n",
      "PRODUCTOS VENDIDOS min    35.000000             NaN        NaN        NaN   \n",
      "                   25%    53.750000             NaN        NaN        NaN   \n",
      "                   50%    67.500000             NaN        NaN        NaN   \n",
      "                   75%    76.250000             NaN        NaN        NaN   \n",
      "                   max    90.000000             NaN        NaN        NaN   \n",
      "\n",
      "NOMBRE CONJUNTO              Tuerca  \n",
      "MES                count  24.000000  \n",
      "                   mean   12.500000  \n",
      "                   std     7.071068  \n",
      "                   min     1.000000  \n",
      "                   25%     6.750000  \n",
      "...                             ...  \n",
      "PRODUCTOS VENDIDOS min          NaN  \n",
      "                   25%          NaN  \n",
      "                   50%          NaN  \n",
      "                   75%          NaN  \n",
      "                   max          NaN  \n",
      "\n",
      "[64 rows x 5 columns]\n"
     ]
    }
   ],
   "source": [
    "# Calcular estadísticas descriptivas para cada conjunto de datos\n",
    "estadisticas_entrenamiento = df_entrenamiento.groupby('NOMBRE CONJUNTO').describe().transpose()\n",
    "estadisticas_prediccion = df_prediccion.groupby('NOMBRE CONJUNTO').describe().transpose()\n",
    "\n",
    "# Mostrar las estadísticas descriptivas\n",
    "print(\"Estadísticas descriptivas del conjunto de entrenamiento:\")\n",
    "print(estadisticas_entrenamiento)\n",
    "\n",
    "print(\"\\nEstadísticas descriptivas del conjunto de predicción:\")\n",
    "print(estadisticas_prediccion)"
   ]
  },
  {
   "cell_type": "code",
   "execution_count": 10,
   "id": "01J03N0H55YQBYNCHE5XVBE2FW",
   "metadata": {},
   "outputs": [
    {
     "data": {
      "text/html": [
       "<div>\n",
       "<style scoped>\n",
       "    .dataframe tbody tr th:only-of-type {\n",
       "        vertical-align: middle;\n",
       "    }\n",
       "\n",
       "    .dataframe tbody tr th {\n",
       "        vertical-align: top;\n",
       "    }\n",
       "\n",
       "    .dataframe thead th {\n",
       "        text-align: right;\n",
       "    }\n",
       "</style>\n",
       "<table border=\"1\" class=\"dataframe\">\n",
       "  <thead>\n",
       "    <tr style=\"text-align: right;\">\n",
       "      <th></th>\n",
       "      <th>NOMBRE CONJUNTO</th>\n",
       "      <th>Alicate</th>\n",
       "      <th>Destornillador</th>\n",
       "      <th>Focos</th>\n",
       "      <th>Martillo</th>\n",
       "      <th>Tuerca</th>\n",
       "    </tr>\n",
       "  </thead>\n",
       "  <tbody>\n",
       "    <tr>\n",
       "      <th rowspan=\"5\" valign=\"top\">MES</th>\n",
       "      <th>count</th>\n",
       "      <td>24.000000</td>\n",
       "      <td>24.000000</td>\n",
       "      <td>24.000000</td>\n",
       "      <td>24.000000</td>\n",
       "      <td>24.000000</td>\n",
       "    </tr>\n",
       "    <tr>\n",
       "      <th>mean</th>\n",
       "      <td>12.500000</td>\n",
       "      <td>12.500000</td>\n",
       "      <td>12.500000</td>\n",
       "      <td>12.500000</td>\n",
       "      <td>12.500000</td>\n",
       "    </tr>\n",
       "    <tr>\n",
       "      <th>std</th>\n",
       "      <td>7.071068</td>\n",
       "      <td>7.071068</td>\n",
       "      <td>7.071068</td>\n",
       "      <td>7.071068</td>\n",
       "      <td>7.071068</td>\n",
       "    </tr>\n",
       "    <tr>\n",
       "      <th>min</th>\n",
       "      <td>1.000000</td>\n",
       "      <td>1.000000</td>\n",
       "      <td>1.000000</td>\n",
       "      <td>1.000000</td>\n",
       "      <td>1.000000</td>\n",
       "    </tr>\n",
       "    <tr>\n",
       "      <th>25%</th>\n",
       "      <td>6.750000</td>\n",
       "      <td>6.750000</td>\n",
       "      <td>6.750000</td>\n",
       "      <td>6.750000</td>\n",
       "      <td>6.750000</td>\n",
       "    </tr>\n",
       "    <tr>\n",
       "      <th>...</th>\n",
       "      <th>...</th>\n",
       "      <td>...</td>\n",
       "      <td>...</td>\n",
       "      <td>...</td>\n",
       "      <td>...</td>\n",
       "      <td>...</td>\n",
       "    </tr>\n",
       "    <tr>\n",
       "      <th rowspan=\"5\" valign=\"top\">PRODUCTOS VENDIDOS</th>\n",
       "      <th>min</th>\n",
       "      <td>35.000000</td>\n",
       "      <td>22.000000</td>\n",
       "      <td>35.000000</td>\n",
       "      <td>35.000000</td>\n",
       "      <td>450.000000</td>\n",
       "    </tr>\n",
       "    <tr>\n",
       "      <th>25%</th>\n",
       "      <td>53.750000</td>\n",
       "      <td>31.500000</td>\n",
       "      <td>50.000000</td>\n",
       "      <td>50.000000</td>\n",
       "      <td>650.000000</td>\n",
       "    </tr>\n",
       "    <tr>\n",
       "      <th>50%</th>\n",
       "      <td>67.500000</td>\n",
       "      <td>39.000000</td>\n",
       "      <td>62.500000</td>\n",
       "      <td>62.500000</td>\n",
       "      <td>750.000000</td>\n",
       "    </tr>\n",
       "    <tr>\n",
       "      <th>75%</th>\n",
       "      <td>76.250000</td>\n",
       "      <td>45.000000</td>\n",
       "      <td>75.000000</td>\n",
       "      <td>75.000000</td>\n",
       "      <td>850.000000</td>\n",
       "    </tr>\n",
       "    <tr>\n",
       "      <th>max</th>\n",
       "      <td>90.000000</td>\n",
       "      <td>50.000000</td>\n",
       "      <td>90.000000</td>\n",
       "      <td>90.000000</td>\n",
       "      <td>900.000000</td>\n",
       "    </tr>\n",
       "  </tbody>\n",
       "</table>\n",
       "<p>64 rows × 5 columns</p>\n",
       "</div>"
      ],
      "text/plain": [
       "NOMBRE CONJUNTO             Alicate  Destornillador      Focos   Martillo  \\\n",
       "MES                count  24.000000       24.000000  24.000000  24.000000   \n",
       "                   mean   12.500000       12.500000  12.500000  12.500000   \n",
       "                   std     7.071068        7.071068   7.071068   7.071068   \n",
       "                   min     1.000000        1.000000   1.000000   1.000000   \n",
       "                   25%     6.750000        6.750000   6.750000   6.750000   \n",
       "...                             ...             ...        ...        ...   \n",
       "PRODUCTOS VENDIDOS min    35.000000       22.000000  35.000000  35.000000   \n",
       "                   25%    53.750000       31.500000  50.000000  50.000000   \n",
       "                   50%    67.500000       39.000000  62.500000  62.500000   \n",
       "                   75%    76.250000       45.000000  75.000000  75.000000   \n",
       "                   max    90.000000       50.000000  90.000000  90.000000   \n",
       "\n",
       "NOMBRE CONJUNTO               Tuerca  \n",
       "MES                count   24.000000  \n",
       "                   mean    12.500000  \n",
       "                   std      7.071068  \n",
       "                   min      1.000000  \n",
       "                   25%      6.750000  \n",
       "...                              ...  \n",
       "PRODUCTOS VENDIDOS min    450.000000  \n",
       "                   25%    650.000000  \n",
       "                   50%    750.000000  \n",
       "                   75%    850.000000  \n",
       "                   max    900.000000  \n",
       "\n",
       "[64 rows x 5 columns]"
      ]
     },
     "execution_count": 10,
     "metadata": {},
     "output_type": "execute_result"
    }
   ],
   "source": [
    "estadisticas_entrenamiento"
   ]
  }
 ],
 "metadata": {
  "kernelspec": {
   "display_name": "Python 3",
   "language": "python",
   "name": "python3"
  },
  "language_info": {
   "codemirror_mode": {
    "name": "ipython",
    "version": 3
   },
   "file_extension": ".py",
   "mimetype": "text/x-python",
   "name": "python",
   "nbconvert_exporter": "python",
   "pygments_lexer": "ipython3",
   "version": "3.11.7"
  }
 },
 "nbformat": 4,
 "nbformat_minor": 5
}

{
 "cells": [
  {
   "cell_type": "markdown",
   "id": "477afae2af6a2708",
   "metadata": {
    "collapsed": false
   },
   "source": [
    "<div align=\"center\" style=\"border: 2px solid #E57373; border-radius: 10px; padding: 20px; background-color: #FFCDD2;\">\n",
    "    <h1 style=\"font-size: 28px; color: #D32F2F;\">Clustering mediante Algoritmos de Embedding de Grafos para el Análisis de Postulantes en el Proceso de Admisión de UNIQ</h1>\n",
    "    <p style=\"font-size: 18px; color: #EF6C00;\">Explorando Perfiles y Tendencias a través de Datos Transformados</p>\n",
    "    <img src=\"../images/logo.png\" alt=\"Imagen de ejemplo\" style=\"border-radius: 5px; box-shadow: 5px 5px 10px rgba(0, 0, 0, 0.2); max-width: 80%; margin-top: 20px;\">\n",
    "</div>\n"
   ]
  },
  {
   "cell_type": "markdown",
   "id": "740025c3cd0d3af8",
   "metadata": {
    "collapsed": false
   },
   "source": [
    "<div style=\"border: 2px solid #4CAF50; border-radius: 10px; padding: 20px; background-color: #E8F5E9;color: black\">\n",
    "<h3 style=\"color: #4CAF50;\">🌐 Embedding para Datos de Gráficos</h3>\n",
    "<p>El <span style=\"color: #E91E63; font-weight: bold;\">embedding</span> es una técnica que permite representar entidades y relaciones en un grafo en un espacio vectorial de baja dimensión. \n",
    "En el contexto de datos de gráficos, el embedding captura las características semánticas y topológicas de los nodos y las relaciones en el grafo, transformándolos en vectores numéricos.</p>\n",
    "<p>Estos vectores permiten una manipulación y análisis más eficiente de los datos, facilitando tareas como la detección de similitudes, el clustering y la visualización.</p>\n",
    "</div>\n",
    "<div align=\"center\" style=\"border: 2px solid #E57373; border-radius: 10px; padding: 20px; background-color: #E3F2FD;\">\n",
    "    <a href=\"[about:blank](https://www.analyticsvidhya.com/blog/2018/04/introduction-to-graph-theory-network-analysis-python-codes/)\" target=\"_blank\">\n",
    "        <img src=\"../images/Embedding.webp\" alt=\"Red de Nodos\" style=\"border-radius: 5px; max-width: 80%; box-shadow: 5px 5px 10px rgba(0, 0, 0, 0.2);\">\n",
    "    </a>\n",
    "    <p style=\"font-size: 16px; color: #0a0a0a; margin-top: 10px;\">\n",
    "        <em> <strong>Embedding</strong>:\n",
    "        Proceso de Incrustacion de Node2Vect</em>\n",
    "    </p>\n",
    "</div>\n",
    "<div style=\"border: 2px solid #FF9800; border-radius: 10px; padding: 20px; background-color: #FFF3E0;color: black\">\n",
    "<h3 style=\"color: #FF9800;\">📊 Node2Vec: Técnica de Embedding</h3>\n",
    "<p><span style=\"color: #673AB7; font-weight: bold;\">Node2Vec</span> es una técnica popular de embedding para grafos que permite generar representaciones vectoriales de nodos basadas en su estructura local en el grafo. Utiliza el concepto de \"random walk\" para capturar la proximidad semántica y topológica de los nodos.</p>\n",
    "<p>Node2Vec utiliza un parámetro de control para ajustar el equilibrio entre explorar áreas distantes y explotar conexiones cercanas en el grafo. Los resultados son vectores numéricos que capturan la similitud y relación entre nodos en un espacio dimensional reducido.</p>\n",
    "</div>\n",
    "<div align=\"center\" style=\"border: 2px solid #E57373; border-radius: 10px; padding: 20px; background-color: #E3F2FD;\">\n",
    "    <a href=\"[about:blank](https://www.analyticsvidhya.com/blog/2018/04/introduction-to-graph-theory-network-analysis-python-codes/)\" target=\"_blank\">\n",
    "        <img src=\"../images/wor2vect.webp\" alt=\"Red de Nodos\" style=\"border-radius: 5px; max-width: 80%; box-shadow: 5px 5px 10px rgba(0, 0, 0, 0.2);\">\n",
    "    </a>\n",
    "    <p style=\"font-size: 16px; color: #0a0a0a; margin-top: 10px;\">\n",
    "        <em> <strong>Nod2Vect</strong>:\n",
    "        Defincion matematica de Nod2Vect</em>\n",
    "    </p>\n",
    "</div>\n",
    "<div style=\"border: 2px solid #2196F3; border-radius: 10px; padding: 20px; background-color: #E3F2FD;color: black\">\n",
    "<h3 style=\"color: #2196F3;\">🔗 NetworkX en Python</h3>\n",
    "<p><span style=\"color: #FF5722; font-weight: bold;\">NetworkX</span> es una biblioteca de Python utilizada para la creación, manipulación y análisis de estructuras de grafos. Proporciona una amplia gama de funciones para crear, visualizar y analizar grafos, así como para realizar cálculos y aplicar algoritmos de grafos.</p>\n",
    "<p>NetworkX es útil para procesar y preparar datos de grafos antes de aplicar técnicas como embedding. Permite cargar, modificar y explorar la estructura y atributos de los grafos, lo que es esencial para el proceso de embedding.</p>\n",
    "</div>\n",
    "\n",
    "<div style=\"border: 2px solid #FFC107; border-radius: 10px; padding: 20px; background-color: #FFF9C4;color: black\">\n",
    "<h3 style=\"color: #FFC107;\">🚀 Proceso de Incrustación de Datos</h3>\n",
    "<p>El proceso de <span style=\"color: #009688; font-weight: bold;\">incrustación de datos</span> implica la transformación de los nodos y relaciones de un grafo en vectores numéricos de baja dimensión. Para llevar a cabo la incrustación de los postulantes en el proceso de admisión de la UNIQ, se seguirán los siguientes pasos:</p>\n",
    "<ol>\n",
    "  <li>Preparación de Datos: Cargar los datos de los postulantes y construir un grafo representando las relaciones entre ellos.</li>\n",
    "  <li>Aplicación de Node2Vec: Utilizar Node2Vec para generar los vectores de embedding para cada postulante en el grafo. Ajustar los parámetros de exploración y explotación según sea necesario.</li>\n",
    "  <li>Exploración y Análisis: Explorar las representaciones de embedding para identificar similitudes y diferencias entre los postulantes. Esto puede involucrar técnicas de clustering y visualización.</li>\n",
    "  <li>Aplicación de Resultados: Utilizar los vectores de embedding en análisis posteriores, como clustering de postulantes, detección de tendencias y patrones, y toma de decisiones informadas en el proceso de admisión.</li>\n",
    "</ol>\n",
    "\n",
    "</div>\n"
   ]
  },
  {
   "cell_type": "markdown",
   "id": "50b80ab3ca9ebcc8",
   "metadata": {
    "collapsed": false
   },
   "source": []
  },
  {
   "cell_type": "code",
   "execution_count": null,
   "id": "d915906df25d7817",
   "metadata": {
    "ExecuteTime": {
     "end_time": "2024-06-06T12:14:11.652907700Z",
     "start_time": "2024-06-06T12:14:11.534717500Z"
    },
    "collapsed": false
   },
   "outputs": [],
   "source": [
    "# Importar la librería pandas para manejo de datos\n",
    "import pandas as pd\n",
    "import plotly.graph_objs as go\n",
    "import plotly.offline as py\n",
    "import seaborn as sns\n",
    "import numpy as np"
   ]
  },
  {
   "cell_type": "code",
   "execution_count": null,
   "id": "fe05f5b22d090f4c",
   "metadata": {
    "ExecuteTime": {
     "end_time": "2024-06-06T12:14:14.872041100Z",
     "start_time": "2024-06-06T12:14:14.223798100Z"
    },
    "collapsed": false
   },
   "outputs": [],
   "source": [
    "# Ruta al archivo CSV en tu Google Drive\n",
    "csv_file_path = \"../data/LISTA_DE_POSTULANTES_1.csv\"\n",
    "\n",
    "# Leer el archivo CSV en un DataFrame, especificando la codificación\n",
    "Postulantes = pd.read_excel(\"../Data/Melsol-test.xlsx\")\n",
    "\n",
    "# Mostrar los primeros registros del DataFrame\n",
    "Postulantes.head()"
   ]
  },
  {
   "cell_type": "markdown",
   "id": "8d110691fc50c508",
   "metadata": {
    "collapsed": false
   },
   "source": [
    "## <a><font size=\"6\"><div style=\"border-radius:5px;color:#2F4F4F;background-color:#BFBF00;\"> 🏋️‍♀️ 3.3 Acerca del Conjunto de Datos</div></font></a>\n"
   ]
  },
  {
   "cell_type": "markdown",
   "id": "faf55a0945f967bf",
   "metadata": {
    "collapsed": false
   },
   "source": []
  },
  {
   "cell_type": "markdown",
   "id": "67bda789dde0904b",
   "metadata": {
    "collapsed": false
   },
   "source": [
    "<div style=\"background-color:#20B2AA; border-radius:10px; padding:10px; box-shadow: 0px 2px 4px rgba(10, 39, 52, 0.1);\">\n",
    "    <h3 style=\"color:#333333;\">📊 - Tamaño del conjunto de datos</h3>\n",
    "    <p style=\"color:#555555;\">Este es el tamaño actual del conjunto de datos:</p>\n",
    "    <p style=\"color:#333333;\">- <strong>Tamaño del conjunto de datos:</strong> (4928, 27)</p>\n",
    "</div>"
   ]
  },
  {
   "cell_type": "code",
   "execution_count": null,
   "id": "e089d10fab2ef70c",
   "metadata": {
    "ExecuteTime": {
     "end_time": "2024-06-06T12:16:46.401460800Z",
     "start_time": "2024-06-06T12:16:46.368484700Z"
    },
    "collapsed": false
   },
   "outputs": [],
   "source": [
    "# Verificar el número de filas y columnas\n",
    "num_filas, num_columnas = Postulantes.shape\n",
    "print(f\"Número de filas: {num_filas}\")\n",
    "print(f\"Número de columnas: {num_columnas}\")"
   ]
  },
  {
   "cell_type": "code",
   "execution_count": null,
   "id": "2158836f77ac46c8",
   "metadata": {
    "ExecuteTime": {
     "end_time": "2024-06-06T12:17:14.205026400Z",
     "start_time": "2024-06-06T12:17:14.182344400Z"
    },
    "collapsed": false
   },
   "outputs": [],
   "source": [
    "# Tipos de datos de cada columna\n",
    "print(Postulantes.dtypes)"
   ]
  },
  {
   "cell_type": "code",
   "execution_count": null,
   "id": "a9eef44d94242383",
   "metadata": {
    "ExecuteTime": {
     "end_time": "2024-06-06T12:17:31.249571Z",
     "start_time": "2024-06-06T12:17:31.228872300Z"
    },
    "collapsed": false
   },
   "outputs": [],
   "source": [
    "# Cantidad de valores nulos\n",
    "print(Postulantes.isnull().sum())"
   ]
  }
 ],
 "metadata": {
  "kernelspec": {
   "display_name": "Python 3",
   "language": "python",
   "name": "python3"
  },
  "language_info": {
   "codemirror_mode": {
    "name": "ipython",
    "version": 2
   },
   "file_extension": ".py",
   "mimetype": "text/x-python",
   "name": "python",
   "nbconvert_exporter": "python",
   "pygments_lexer": "ipython2",
   "version": "2.7.6"
  }
 },
 "nbformat": 4,
 "nbformat_minor": 5
}
